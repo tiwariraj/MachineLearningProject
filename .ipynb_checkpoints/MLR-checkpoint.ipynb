{
 "cells": [
  {
   "cell_type": "code",
   "execution_count": 102,
   "metadata": {},
   "outputs": [],
   "source": [
    "#Linear Regression\n",
    "#### Your code here\n",
    "import numpy as np\n",
    "import pandas as pd\n",
    "\n",
    "from pandas import Series, DataFrame\n",
    "import scipy\n",
    "from scipy.stats import spearmanr\n",
    "\n",
    "from pylab import rcParams\n",
    "import seaborn as sb\n",
    "import matplotlib.pyplot as plt\n",
    "\n",
    "import sklearn\n",
    "from sklearn import linear_model\n",
    "from sklearn.linear_model import LinearRegression\n",
    "from sklearn.preprocessing import scale \n",
    "from collections import Counter\n",
    "from sklearn.model_selection import cross_val_predict"
   ]
  },
  {
   "cell_type": "code",
   "execution_count": 103,
   "metadata": {
    "collapsed": true
   },
   "outputs": [],
   "source": [
    "%matplotlib inline\n",
    "rcParams['figure.figsize'] = 5, 4\n",
    "sb.set_style('whitegrid')"
   ]
  },
  {
   "cell_type": "code",
   "execution_count": 104,
   "metadata": {
    "collapsed": true
   },
   "outputs": [],
   "source": [
    "#Multiple Linear Regression on the housing Data\n",
    "train = pd.read_csv('clean_train.csv')"
   ]
  },
  {
   "cell_type": "code",
   "execution_count": 105,
   "metadata": {},
   "outputs": [],
   "source": [
    "train = train.drop('Unnamed: 0', axis=1)"
   ]
  },
  {
   "cell_type": "code",
   "execution_count": 106,
   "metadata": {},
   "outputs": [
    {
     "data": {
      "text/html": [
       "<div>\n",
       "<style>\n",
       "    .dataframe thead tr:only-child th {\n",
       "        text-align: right;\n",
       "    }\n",
       "\n",
       "    .dataframe thead th {\n",
       "        text-align: left;\n",
       "    }\n",
       "\n",
       "    .dataframe tbody tr th {\n",
       "        vertical-align: top;\n",
       "    }\n",
       "</style>\n",
       "<table border=\"1\" class=\"dataframe\">\n",
       "  <thead>\n",
       "    <tr style=\"text-align: right;\">\n",
       "      <th></th>\n",
       "      <th>Id</th>\n",
       "      <th>MSSubClass</th>\n",
       "      <th>MSZoning</th>\n",
       "      <th>LotFrontage</th>\n",
       "      <th>LotArea</th>\n",
       "      <th>LotShape</th>\n",
       "      <th>LandContour</th>\n",
       "      <th>LotConfig</th>\n",
       "      <th>LandSlope</th>\n",
       "      <th>Neighborhood</th>\n",
       "      <th>...</th>\n",
       "      <th>TotalFinSF</th>\n",
       "      <th>AbvGrndRoomSize</th>\n",
       "      <th>YrSold_Garage_Difference</th>\n",
       "      <th>hasDeck</th>\n",
       "      <th>hasOpenPorch</th>\n",
       "      <th>hasEnlosedPorch</th>\n",
       "      <th>hasX3SsnPorch</th>\n",
       "      <th>hasScreenPorch</th>\n",
       "      <th>hasPool</th>\n",
       "      <th>hasFence</th>\n",
       "    </tr>\n",
       "  </thead>\n",
       "  <tbody>\n",
       "    <tr>\n",
       "      <th>0</th>\n",
       "      <td>1</td>\n",
       "      <td>2 story newer</td>\n",
       "      <td>low density</td>\n",
       "      <td>65.0</td>\n",
       "      <td>9.041922</td>\n",
       "      <td>Reg</td>\n",
       "      <td>Lvl</td>\n",
       "      <td>Inside</td>\n",
       "      <td>Gtl</td>\n",
       "      <td>CollgCr</td>\n",
       "      <td>...</td>\n",
       "      <td>7.789869</td>\n",
       "      <td>213.750000</td>\n",
       "      <td>1.791759</td>\n",
       "      <td>No</td>\n",
       "      <td>Yes</td>\n",
       "      <td>No</td>\n",
       "      <td>No</td>\n",
       "      <td>No</td>\n",
       "      <td>0</td>\n",
       "      <td>0</td>\n",
       "    </tr>\n",
       "    <tr>\n",
       "      <th>1</th>\n",
       "      <td>2</td>\n",
       "      <td>1 story (new styles)</td>\n",
       "      <td>low density</td>\n",
       "      <td>80.0</td>\n",
       "      <td>9.169518</td>\n",
       "      <td>Reg</td>\n",
       "      <td>Lvl</td>\n",
       "      <td>FR2</td>\n",
       "      <td>Gtl</td>\n",
       "      <td>Veenker</td>\n",
       "      <td>...</td>\n",
       "      <td>7.714231</td>\n",
       "      <td>210.333333</td>\n",
       "      <td>3.465736</td>\n",
       "      <td>Yes</td>\n",
       "      <td>No</td>\n",
       "      <td>No</td>\n",
       "      <td>No</td>\n",
       "      <td>No</td>\n",
       "      <td>0</td>\n",
       "      <td>0</td>\n",
       "    </tr>\n",
       "    <tr>\n",
       "      <th>2</th>\n",
       "      <td>3</td>\n",
       "      <td>2 story newer</td>\n",
       "      <td>low density</td>\n",
       "      <td>68.0</td>\n",
       "      <td>9.328123</td>\n",
       "      <td>IR1</td>\n",
       "      <td>Lvl</td>\n",
       "      <td>Inside</td>\n",
       "      <td>Gtl</td>\n",
       "      <td>CollgCr</td>\n",
       "      <td>...</td>\n",
       "      <td>7.728416</td>\n",
       "      <td>297.666667</td>\n",
       "      <td>2.079442</td>\n",
       "      <td>No</td>\n",
       "      <td>Yes</td>\n",
       "      <td>No</td>\n",
       "      <td>No</td>\n",
       "      <td>No</td>\n",
       "      <td>0</td>\n",
       "      <td>0</td>\n",
       "    </tr>\n",
       "    <tr>\n",
       "      <th>3</th>\n",
       "      <td>4</td>\n",
       "      <td>2 story older</td>\n",
       "      <td>low density</td>\n",
       "      <td>60.0</td>\n",
       "      <td>9.164296</td>\n",
       "      <td>IR1</td>\n",
       "      <td>Lvl</td>\n",
       "      <td>Corner</td>\n",
       "      <td>Gtl</td>\n",
       "      <td>Crawfor</td>\n",
       "      <td>...</td>\n",
       "      <td>7.566828</td>\n",
       "      <td>245.285714</td>\n",
       "      <td>2.197225</td>\n",
       "      <td>No</td>\n",
       "      <td>Yes</td>\n",
       "      <td>Yes</td>\n",
       "      <td>No</td>\n",
       "      <td>No</td>\n",
       "      <td>0</td>\n",
       "      <td>0</td>\n",
       "    </tr>\n",
       "    <tr>\n",
       "      <th>4</th>\n",
       "      <td>5</td>\n",
       "      <td>2 story newer</td>\n",
       "      <td>low density</td>\n",
       "      <td>84.0</td>\n",
       "      <td>9.565214</td>\n",
       "      <td>IR1</td>\n",
       "      <td>Lvl</td>\n",
       "      <td>FR2</td>\n",
       "      <td>Gtl</td>\n",
       "      <td>NoRidge</td>\n",
       "      <td>...</td>\n",
       "      <td>7.956126</td>\n",
       "      <td>244.222222</td>\n",
       "      <td>2.197225</td>\n",
       "      <td>Yes</td>\n",
       "      <td>Yes</td>\n",
       "      <td>No</td>\n",
       "      <td>No</td>\n",
       "      <td>No</td>\n",
       "      <td>0</td>\n",
       "      <td>0</td>\n",
       "    </tr>\n",
       "  </tbody>\n",
       "</table>\n",
       "<p>5 rows × 84 columns</p>\n",
       "</div>"
      ],
      "text/plain": [
       "   Id            MSSubClass     MSZoning  LotFrontage   LotArea LotShape  \\\n",
       "0   1         2 story newer  low density         65.0  9.041922      Reg   \n",
       "1   2  1 story (new styles)  low density         80.0  9.169518      Reg   \n",
       "2   3         2 story newer  low density         68.0  9.328123      IR1   \n",
       "3   4         2 story older  low density         60.0  9.164296      IR1   \n",
       "4   5         2 story newer  low density         84.0  9.565214      IR1   \n",
       "\n",
       "  LandContour LotConfig LandSlope Neighborhood   ...    TotalFinSF  \\\n",
       "0         Lvl    Inside       Gtl      CollgCr   ...      7.789869   \n",
       "1         Lvl       FR2       Gtl      Veenker   ...      7.714231   \n",
       "2         Lvl    Inside       Gtl      CollgCr   ...      7.728416   \n",
       "3         Lvl    Corner       Gtl      Crawfor   ...      7.566828   \n",
       "4         Lvl       FR2       Gtl      NoRidge   ...      7.956126   \n",
       "\n",
       "  AbvGrndRoomSize YrSold_Garage_Difference  hasDeck  hasOpenPorch  \\\n",
       "0      213.750000                 1.791759       No           Yes   \n",
       "1      210.333333                 3.465736      Yes            No   \n",
       "2      297.666667                 2.079442       No           Yes   \n",
       "3      245.285714                 2.197225       No           Yes   \n",
       "4      244.222222                 2.197225      Yes           Yes   \n",
       "\n",
       "   hasEnlosedPorch  hasX3SsnPorch hasScreenPorch hasPool hasFence  \n",
       "0               No             No             No       0        0  \n",
       "1               No             No             No       0        0  \n",
       "2               No             No             No       0        0  \n",
       "3              Yes             No             No       0        0  \n",
       "4               No             No             No       0        0  \n",
       "\n",
       "[5 rows x 84 columns]"
      ]
     },
     "execution_count": 106,
     "metadata": {},
     "output_type": "execute_result"
    }
   ],
   "source": [
    "train.head()"
   ]
  },
  {
   "cell_type": "code",
   "execution_count": 107,
   "metadata": {},
   "outputs": [],
   "source": [
    "train_features = train.loc[:, 'MSSubClass':'hasFence']"
   ]
  },
  {
   "cell_type": "code",
   "execution_count": 108,
   "metadata": {},
   "outputs": [],
   "source": [
    "train_target = train_features.loc[:,'SalePrice']\n",
    "train_target = np.log(train_target.astype(float))"
   ]
  },
  {
   "cell_type": "code",
   "execution_count": 109,
   "metadata": {},
   "outputs": [
    {
     "data": {
      "text/plain": [
       "(array([], dtype=int64),)"
      ]
     },
     "execution_count": 109,
     "metadata": {},
     "output_type": "execute_result"
    }
   ],
   "source": [
    "np.where(np.isinf(train_target))"
   ]
  },
  {
   "cell_type": "code",
   "execution_count": 110,
   "metadata": {},
   "outputs": [],
   "source": [
    "train_features.drop('SalePrice', axis=1,inplace=True)"
   ]
  },
  {
   "cell_type": "code",
   "execution_count": 111,
   "metadata": {},
   "outputs": [],
   "source": [
    "train_features = pd.get_dummies(train_features)#,drop_first=False)"
   ]
  },
  {
   "cell_type": "code",
   "execution_count": 112,
   "metadata": {},
   "outputs": [
    {
     "data": {
      "text/plain": [
       "Index(['LotFrontage', 'LotArea', 'OverallQual', 'OverallCond', 'YearBuilt',\n",
       "       'YearRemodAdd', 'MasVnrArea', 'ExterQual', 'ExterCond', 'BsmtQual',\n",
       "       ...\n",
       "       'hasDeck_No', 'hasDeck_Yes', 'hasOpenPorch_No', 'hasOpenPorch_Yes',\n",
       "       'hasEnlosedPorch_No', 'hasEnlosedPorch_Yes', 'hasX3SsnPorch_No',\n",
       "       'hasX3SsnPorch_Yes', 'hasScreenPorch_No', 'hasScreenPorch_Yes'],\n",
       "      dtype='object', length=194)"
      ]
     },
     "execution_count": 112,
     "metadata": {},
     "output_type": "execute_result"
    }
   ],
   "source": [
    "train_features.columns"
   ]
  },
  {
   "cell_type": "code",
   "execution_count": 113,
   "metadata": {},
   "outputs": [],
   "source": [
    "import statsmodels.api as sm"
   ]
  },
  {
   "cell_type": "code",
   "execution_count": 114,
   "metadata": {
    "collapsed": true
   },
   "outputs": [],
   "source": [
    "#try:  # train_test_split was moved in 0.18.0\n",
    "#    from sklearn.model_selection import train_test_split\n",
    "#except:  # Following import works through 0.19 but outputs a warning in 0.18\n",
    "#    from sklearn.cross_validation import train_test_split\n",
    "#X_train, X_test, y_train, y_test = train_test_split(train_features, train_target, test_size=0.2, random_state=42)"
   ]
  },
  {
   "cell_type": "code",
   "execution_count": 115,
   "metadata": {
    "collapsed": true
   },
   "outputs": [],
   "source": [
    "model = LinearRegression()"
   ]
  },
  {
   "cell_type": "code",
   "execution_count": 96,
   "metadata": {
    "collapsed": true
   },
   "outputs": [],
   "source": [
    "#text_x = train_features.loc[:,('LotFrontage', 'LotArea', 'OverallQual', 'OverallCond', 'YearBuilt',\n",
    "#       'YearRemodAdd', 'MasVnrArea', 'ExterQual', 'ExterCond', 'BsmtQual','hasDeck_No', 'hasDeck_Yes', 'hasOpenPorch_No', 'hasOpenPorch_Yes',\n",
    "#       'hasEnlosedPorch_No', 'hasEnlosedPorch_Yes', 'hasX3SsnPorch_No',\n",
    "#       'hasX3SsnPorch_Yes', 'hasScreenPorch_No', 'hasScreenPorch_Yes')]"
   ]
  },
  {
   "cell_type": "code",
   "execution_count": 116,
   "metadata": {},
   "outputs": [
    {
     "data": {
      "text/plain": [
       "Index(['LotFrontage', 'LotArea', 'OverallQual', 'OverallCond', 'YearBuilt',\n",
       "       'YearRemodAdd', 'MasVnrArea', 'ExterQual', 'ExterCond', 'BsmtQual',\n",
       "       ...\n",
       "       'hasDeck_No', 'hasDeck_Yes', 'hasOpenPorch_No', 'hasOpenPorch_Yes',\n",
       "       'hasEnlosedPorch_No', 'hasEnlosedPorch_Yes', 'hasX3SsnPorch_No',\n",
       "       'hasX3SsnPorch_Yes', 'hasScreenPorch_No', 'hasScreenPorch_Yes'],\n",
       "      dtype='object', length=194)"
      ]
     },
     "execution_count": 116,
     "metadata": {},
     "output_type": "execute_result"
    }
   ],
   "source": [
    "train_features.columns\n",
    "#test_x = train_features.loc[:,('OverallQual','YearBuilt','ExterQual')]"
   ]
  },
  {
   "cell_type": "code",
   "execution_count": 117,
   "metadata": {},
   "outputs": [
    {
     "data": {
      "text/html": [
       "<div>\n",
       "<style>\n",
       "    .dataframe thead tr:only-child th {\n",
       "        text-align: right;\n",
       "    }\n",
       "\n",
       "    .dataframe thead th {\n",
       "        text-align: left;\n",
       "    }\n",
       "\n",
       "    .dataframe tbody tr th {\n",
       "        vertical-align: top;\n",
       "    }\n",
       "</style>\n",
       "<table border=\"1\" class=\"dataframe\">\n",
       "  <thead>\n",
       "    <tr style=\"text-align: right;\">\n",
       "      <th></th>\n",
       "      <th>OverallQual</th>\n",
       "      <th>OverallCond</th>\n",
       "      <th>YearRemodAdd</th>\n",
       "      <th>ExterQual</th>\n",
       "      <th>ExterCond</th>\n",
       "      <th>BsmtQual</th>\n",
       "      <th>BsmtCond</th>\n",
       "      <th>BsmtExposure</th>\n",
       "      <th>BsmtFinType1</th>\n",
       "      <th>BsmtFinType2</th>\n",
       "      <th>...</th>\n",
       "      <th>GarageFinish</th>\n",
       "      <th>GarageCars</th>\n",
       "      <th>GarageQual</th>\n",
       "      <th>GarageCond</th>\n",
       "      <th>MoSold</th>\n",
       "      <th>YrSold</th>\n",
       "      <th>TotalHalfBath</th>\n",
       "      <th>TotalFullBath</th>\n",
       "      <th>hasPool</th>\n",
       "      <th>hasFence</th>\n",
       "    </tr>\n",
       "  </thead>\n",
       "  <tbody>\n",
       "    <tr>\n",
       "      <th>0</th>\n",
       "      <td>7</td>\n",
       "      <td>5</td>\n",
       "      <td>1</td>\n",
       "      <td>3</td>\n",
       "      <td>2</td>\n",
       "      <td>4</td>\n",
       "      <td>3</td>\n",
       "      <td>1</td>\n",
       "      <td>6</td>\n",
       "      <td>1</td>\n",
       "      <td>...</td>\n",
       "      <td>5</td>\n",
       "      <td>2</td>\n",
       "      <td>3</td>\n",
       "      <td>3</td>\n",
       "      <td>2</td>\n",
       "      <td>2008</td>\n",
       "      <td>1</td>\n",
       "      <td>3</td>\n",
       "      <td>0</td>\n",
       "      <td>0</td>\n",
       "    </tr>\n",
       "    <tr>\n",
       "      <th>1</th>\n",
       "      <td>6</td>\n",
       "      <td>8</td>\n",
       "      <td>1</td>\n",
       "      <td>2</td>\n",
       "      <td>2</td>\n",
       "      <td>4</td>\n",
       "      <td>3</td>\n",
       "      <td>4</td>\n",
       "      <td>5</td>\n",
       "      <td>1</td>\n",
       "      <td>...</td>\n",
       "      <td>5</td>\n",
       "      <td>2</td>\n",
       "      <td>3</td>\n",
       "      <td>3</td>\n",
       "      <td>5</td>\n",
       "      <td>2007</td>\n",
       "      <td>1</td>\n",
       "      <td>2</td>\n",
       "      <td>0</td>\n",
       "      <td>0</td>\n",
       "    </tr>\n",
       "    <tr>\n",
       "      <th>2</th>\n",
       "      <td>7</td>\n",
       "      <td>5</td>\n",
       "      <td>0</td>\n",
       "      <td>3</td>\n",
       "      <td>2</td>\n",
       "      <td>4</td>\n",
       "      <td>3</td>\n",
       "      <td>2</td>\n",
       "      <td>6</td>\n",
       "      <td>1</td>\n",
       "      <td>...</td>\n",
       "      <td>5</td>\n",
       "      <td>2</td>\n",
       "      <td>3</td>\n",
       "      <td>3</td>\n",
       "      <td>9</td>\n",
       "      <td>2008</td>\n",
       "      <td>1</td>\n",
       "      <td>3</td>\n",
       "      <td>0</td>\n",
       "      <td>0</td>\n",
       "    </tr>\n",
       "    <tr>\n",
       "      <th>3</th>\n",
       "      <td>7</td>\n",
       "      <td>5</td>\n",
       "      <td>0</td>\n",
       "      <td>2</td>\n",
       "      <td>2</td>\n",
       "      <td>3</td>\n",
       "      <td>4</td>\n",
       "      <td>1</td>\n",
       "      <td>5</td>\n",
       "      <td>1</td>\n",
       "      <td>...</td>\n",
       "      <td>5</td>\n",
       "      <td>3</td>\n",
       "      <td>3</td>\n",
       "      <td>3</td>\n",
       "      <td>2</td>\n",
       "      <td>2006</td>\n",
       "      <td>0</td>\n",
       "      <td>2</td>\n",
       "      <td>0</td>\n",
       "      <td>0</td>\n",
       "    </tr>\n",
       "    <tr>\n",
       "      <th>4</th>\n",
       "      <td>8</td>\n",
       "      <td>5</td>\n",
       "      <td>1</td>\n",
       "      <td>3</td>\n",
       "      <td>2</td>\n",
       "      <td>4</td>\n",
       "      <td>3</td>\n",
       "      <td>3</td>\n",
       "      <td>6</td>\n",
       "      <td>1</td>\n",
       "      <td>...</td>\n",
       "      <td>5</td>\n",
       "      <td>3</td>\n",
       "      <td>3</td>\n",
       "      <td>3</td>\n",
       "      <td>12</td>\n",
       "      <td>2008</td>\n",
       "      <td>1</td>\n",
       "      <td>3</td>\n",
       "      <td>0</td>\n",
       "      <td>0</td>\n",
       "    </tr>\n",
       "  </tbody>\n",
       "</table>\n",
       "<p>5 rows × 34 columns</p>\n",
       "</div>"
      ],
      "text/plain": [
       "   OverallQual  OverallCond  YearRemodAdd  ExterQual  ExterCond  BsmtQual  \\\n",
       "0            7            5             1          3          2         4   \n",
       "1            6            8             1          2          2         4   \n",
       "2            7            5             0          3          2         4   \n",
       "3            7            5             0          2          2         3   \n",
       "4            8            5             1          3          2         4   \n",
       "\n",
       "   BsmtCond  BsmtExposure  BsmtFinType1  BsmtFinType2    ...     GarageFinish  \\\n",
       "0         3             1             6             1    ...                5   \n",
       "1         3             4             5             1    ...                5   \n",
       "2         3             2             6             1    ...                5   \n",
       "3         4             1             5             1    ...                5   \n",
       "4         3             3             6             1    ...                5   \n",
       "\n",
       "   GarageCars  GarageQual  GarageCond  MoSold  YrSold  TotalHalfBath  \\\n",
       "0           2           3           3       2    2008              1   \n",
       "1           2           3           3       5    2007              1   \n",
       "2           2           3           3       9    2008              1   \n",
       "3           3           3           3       2    2006              0   \n",
       "4           3           3           3      12    2008              1   \n",
       "\n",
       "   TotalFullBath  hasPool  hasFence  \n",
       "0              3        0         0  \n",
       "1              2        0         0  \n",
       "2              3        0         0  \n",
       "3              2        0         0  \n",
       "4              3        0         0  \n",
       "\n",
       "[5 rows x 34 columns]"
      ]
     },
     "execution_count": 117,
     "metadata": {},
     "output_type": "execute_result"
    }
   ],
   "source": [
    "train_features.select_dtypes([\"int64\"]).head()"
   ]
  },
  {
   "cell_type": "code",
   "execution_count": 118,
   "metadata": {},
   "outputs": [],
   "source": [
    "#np.where(np.isnan(train_features))\n",
    "#train_features[~train_features.isin([-np.inf]).any(1)].replace()\n",
    "#np.isinf(train_features.values.any())\n",
    "#np.isnan(train_target.values.any())\n",
    "#train_features.select_dtypes([\"float64\"])\n",
    "train_features.replace([np.inf,-np.inf],0, inplace=True)\n",
    "#train_features[train_features.columns]"
   ]
  },
  {
   "cell_type": "code",
   "execution_count": 119,
   "metadata": {},
   "outputs": [],
   "source": [
    "#### Your code here\n",
    "results = model.fit(train_features, train_target)\n",
    "#results.score(train_features, train_target)"
   ]
  },
  {
   "cell_type": "code",
   "execution_count": 120,
   "metadata": {},
   "outputs": [
    {
     "data": {
      "text/plain": [
       "0.92518799771564941"
      ]
     },
     "execution_count": 120,
     "metadata": {},
     "output_type": "execute_result"
    }
   ],
   "source": [
    "results.score(train_features, train_target)"
   ]
  },
  {
   "cell_type": "code",
   "execution_count": 121,
   "metadata": {},
   "outputs": [
    {
     "data": {
      "text/plain": [
       "{'copy_X': True, 'fit_intercept': True, 'n_jobs': 1, 'normalize': False}"
      ]
     },
     "execution_count": 121,
     "metadata": {},
     "output_type": "execute_result"
    }
   ],
   "source": [
    "results.get_params(deep=True)"
   ]
  },
  {
   "cell_type": "code",
   "execution_count": 122,
   "metadata": {},
   "outputs": [],
   "source": [
    "predicted = cross_val_predict(model, train_features, train_target, cv=10)"
   ]
  },
  {
   "cell_type": "code",
   "execution_count": 123,
   "metadata": {},
   "outputs": [
    {
     "data": {
      "image/png": "[encoded data removed]",
      "text/plain": [
       "<matplotlib.figure.Figure at 0x1b06b5a1860>"
      ]
     },
     "metadata": {},
     "output_type": "display_data"
    }
   ],
   "source": [
    "fig, ax = plt.subplots()\n",
    "ax.scatter(train_target, predicted, edgecolors=(0, 0, 0))\n",
    "ax.plot([train_target.min(), train_target.max()], [train_target.min(), train_target.max()], 'k--', lw=4)\n",
    "ax.set_xlabel('Measured')\n",
    "ax.set_ylabel('Predicted')\n",
    "plt.show()"
   ]
  },
  {
   "cell_type": "code",
   "execution_count": 130,
   "metadata": {
    "collapsed": true
   },
   "outputs": [],
   "source": [
    "from sklearn.linear_model import BayesianRidge\n",
    "from sklearn.linear_model import Ridge"
   ]
  },
  {
   "cell_type": "code",
   "execution_count": 127,
   "metadata": {},
   "outputs": [
    {
     "data": {
      "text/plain": [
       "BayesianRidge(alpha_1=1e-06, alpha_2=1e-06, compute_score=True, copy_X=True,\n",
       "       fit_intercept=True, lambda_1=1e-06, lambda_2=1e-06, n_iter=300,\n",
       "       normalize=False, tol=0.001, verbose=False)"
      ]
     },
     "execution_count": 127,
     "metadata": {},
     "output_type": "execute_result"
    }
   ],
   "source": [
    "# Fit the Bayesian Ridge Regression\n",
    "clf = BayesianRidge(compute_score=True)\n",
    "clf.fit(train_features, train_target)"
   ]
  },
  {
   "cell_type": "code",
   "execution_count": 135,
   "metadata": {},
   "outputs": [
    {
     "data": {
      "text/plain": [
       "0.92075039214980403"
      ]
     },
     "execution_count": 135,
     "metadata": {},
     "output_type": "execute_result"
    }
   ],
   "source": [
    "clf.score(train_features, train_target) "
   ]
  },
  {
   "cell_type": "code",
   "execution_count": 142,
   "metadata": {},
   "outputs": [
    {
     "data": {
      "text/plain": [
       "<matplotlib.legend.Legend at 0x1b06afbde48>"
      ]
     },
     "execution_count": 142,
     "metadata": {},
     "output_type": "execute_result"
    },
    {
     "data": {
      "image/png": "[encoded data removed]",
      "text/plain": [
       "<matplotlib.figure.Figure at 0x1b06b7d2080>"
      ]
     },
     "metadata": {},
     "output_type": "display_data"
    }
   ],
   "source": [
    "lw = 2\n",
    "plt.figure(figsize=(6, 5))\n",
    "plt.title(\"Weights of the model\")\n",
    "plt.plot(clf.coef_, color='lightgreen', linewidth=lw,\n",
    "         label=\"Bayesian Ridge estimate\")\n",
    "#plt.plot(clf., color='gold', linewidth=lw, label=\"Ground truth\")\n",
    "plt.xlabel(\"Features\")\n",
    "plt.ylabel(\"Values of the weights\")\n",
    "plt.legend(loc=\"best\", prop=dict(size=12))\n",
    "\n",
    "# plt.figure(figsize=(6, 5))\n",
    "# plt.title(\"Histogram of the weights\")\n",
    "# plt.hist(clf.coef_, bins=n_features, color='gold', log=True,\n",
    "#          edgecolor='black')\n",
    "# plt.scatter(clf.coef_[relevant_features], 5 * np.ones(len(relevant_features)),\n",
    "#             color='navy', label=\"Relevant features\")\n",
    "# plt.ylabel(\"Features\")\n",
    "# plt.xlabel(\"Values of the weights\")\n",
    "# plt.legend(loc=\"upper left\")\n",
    "\n",
    "# plt.figure(figsize=(6, 5))\n",
    "# plt.title(\"Marginal log-likelihood\")\n",
    "# plt.plot(clf.scores_, color='navy', linewidth=lw)\n",
    "# plt.ylabel(\"Score\")\n",
    "# plt.xlabel(\"Iterations\")\n"
   ]
  },
  {
   "cell_type": "code",
   "execution_count": 132,
   "metadata": {},
   "outputs": [
    {
     "data": {
      "text/plain": [
       "Ridge(alpha=1.0, copy_X=True, fit_intercept=True, max_iter=None,\n",
       "   normalize=False, random_state=None, solver='auto', tol=0.001)"
      ]
     },
     "execution_count": 132,
     "metadata": {},
     "output_type": "execute_result"
    }
   ],
   "source": [
    "ridge = Ridge(alpha=1.0)\n",
    "ridge.fit(train_features, train_target) "
   ]
  },
  {
   "cell_type": "code",
   "execution_count": 134,
   "metadata": {},
   "outputs": [
    {
     "data": {
      "text/plain": [
       "0.92492571735327511"
      ]
     },
     "execution_count": 134,
     "metadata": {},
     "output_type": "execute_result"
    }
   ],
   "source": [
    "ridge.score(train_features, train_target) "
   ]
  },
  {
   "cell_type": "code",
   "execution_count": 149,
   "metadata": {},
   "outputs": [
    {
     "data": {
      "image/png": "[encoded data removed]",
      "text/plain": [
       "<matplotlib.figure.Figure at 0x1b06b65a550>"
      ]
     },
     "metadata": {},
     "output_type": "display_data"
    }
   ],
   "source": [
    "# n_alphas = 200\n",
    "# alphas = np.logspace(-10, -2, n_alphas)\n",
    "# coefs = []\n",
    "# for a in alphas:\n",
    "#     ridge = linear_model.Ridge(alpha=a, fit_intercept=False)\n",
    "#     ridge.fit(train_features, train_target) \n",
    "#     coefs.append(ridge.coef_)\n",
    "\n",
    "# # #############################################################################\n",
    "# Display results\n",
    "\n",
    "ax = plt.gca()\n",
    "\n",
    "ax.plot(alphas, coefs)\n",
    "ax.set_xscale('log')\n",
    "ax.set_xlim(ax.get_xlim()[::-1])  # reverse axis\n",
    "plt.xlabel('alpha')\n",
    "plt.ylabel('weights')\n",
    "plt.title('Ridge coefficients as a function of the regularization')\n",
    "plt.axis('tight')\n",
    "plt.show()"
   ]
  },
  {
   "cell_type": "code",
   "execution_count": 156,
   "metadata": {},
   "outputs": [
    {
     "data": {
      "text/plain": [
       "[17.423671748382056,\n",
       " 0.0,\n",
       " -0.00050949529466468675,\n",
       " 0.071592267821959335,\n",
       " 0.04711679519742331,\n",
       " 0.041968235321469725,\n",
       " -0.029429900410867915,\n",
       " -0.001217162715436736,\n",
       " 0.0022983690794457501,\n",
       " -0.004915436530833121,\n",
       " 0.0034043189117464621,\n",
       " 0.015666498965456497,\n",
       " 0.0020009305946445703,\n",
       " 0.013190240218231975,\n",
       " 0.0077610429003795063,\n",
       " -0.0031705221622167884,\n",
       " 0.0044598504449709971,\n",
       " -0.0060293140682132242,\n",
       " 0.00041224611794096755,\n",
       " 0.0033658071147171231,\n",
       " 0.015568051492436055,\n",
       " -0.04065630442145321,\n",
       " -0.010193789539085297,\n",
       " -0.01373747659702259,\n",
       " 0.31752534726677151,\n",
       " -0.0015985408467832701,\n",
       " -0.010311658090657226,\n",
       " 0.020310564673157457,\n",
       " 0.020268355708133623,\n",
       " -0.0032123833489314255,\n",
       " -0.064123507696122239,\n",
       " 0.025164755773436135,\n",
       " 0.0063644959586687064,\n",
       " 0.95607815572339483,\n",
       " 0.0074993307980376735,\n",
       " 0.006041521070692348,\n",
       " -0.036649283534829186,\n",
       " 0.00015520288210789423,\n",
       " -0.036649284103742644,\n",
       " 0.052977788225788525,\n",
       " -0.005770814710395979,\n",
       " 0.036292095398445481,\n",
       " 0.0073286964718999427,\n",
       " 0.017345234936999552,\n",
       " 0.014983744189473611,\n",
       " 0.020327598382824368,\n",
       " 0.042532604821982775,\n",
       " -0.0027162470043874472,\n",
       " -0.00090286181715190878,\n",
       " 0.00038404463899277254,\n",
       " 0.0099566974996325441,\n",
       " 0.018712023843778361,\n",
       " 0.1660357265349332,\n",
       " -4.9022167023022921e-05,\n",
       " 0.0085985613386837037,\n",
       " 0.022343700568063726,\n",
       " 0.00032719922303075751,\n",
       " 0.048527262246363778,\n",
       " -0.005213637154399927,\n",
       " 0.040195314816942523,\n",
       " 0.048833671257083162,\n",
       " 0.049717939249386806,\n",
       " 0.028006276994143302,\n",
       " -0.033525861925890986,\n",
       " 0.014674665800074621,\n",
       " 0.15333321877685399,\n",
       " 0.13609925174312162,\n",
       " 0.11679925017573597,\n",
       " -0.21501608893787427,\n",
       " 0.057119993200963115,\n",
       " 0.084114207467370625,\n",
       " -0.013026616269663165,\n",
       " 0.063008047102186368,\n",
       " 0.0034237187151947568,\n",
       " 0.075811698956186016,\n",
       " 0.057198736525403394,\n",
       " 0.054781477473505605,\n",
       " 0.069368764146052891,\n",
       " 0.08525740678016909,\n",
       " 0.014050519747493108,\n",
       " -0.02949530795188661,\n",
       " 0.052034248414462372,\n",
       " 0.059980591199355386,\n",
       " 0.087366361388232519,\n",
       " 0.043868679229181445,\n",
       " 0.03211950429730575,\n",
       " 0.012669315186056613,\n",
       " -0.00262118417197557,\n",
       " 0.020170725806716566,\n",
       " 0.027246104929111083,\n",
       " -0.0029944846496461155,\n",
       " 0.089238686566163683,\n",
       " -0.10508937872800805,\n",
       " -0.0078948041317918327,\n",
       " -0.064664921142651904,\n",
       " -0.096157253925388653,\n",
       " -0.053061228266360054,\n",
       " -0.036675584459562656,\n",
       " 0.027249987530703727,\n",
       " -0.035566929118933888,\n",
       " 0.12916990909897869,\n",
       " 0.13314491331222941,\n",
       " -0.074628611871706052,\n",
       " -0.018523469654197731,\n",
       " -0.045473548553877086,\n",
       " -0.0034665539377187172,\n",
       " 0.066021887088795111,\n",
       " 0.15786898118959231,\n",
       " -0.0035256043479638191,\n",
       " 0.046659173240118819,\n",
       " 0.088914338043399668,\n",
       " 0.040586784684162089,\n",
       " 0.031149578624813937,\n",
       " 0.030564929850249164,\n",
       " 0.017708441920245333,\n",
       " 0.080474586477708415,\n",
       " 0.028006276994134306,\n",
       " 0.017106754491849126,\n",
       " 0.047919571196691053,\n",
       " 0.058881082482715577,\n",
       " 0.040487809869152853,\n",
       " 0.019612127017499797,\n",
       " 0.072234612495325451,\n",
       " 0.020983530061324113,\n",
       " 0.024330437525472717,\n",
       " -0.0096772528468997074,\n",
       " 0.033087895068772279,\n",
       " 0.023318610527409984,\n",
       " 0.099172411511859432,\n",
       " -0.021098988410581453,\n",
       " 0.044632679445156045,\n",
       " 0.030072230157728065,\n",
       " 0.13760970856297594,\n",
       " 0.088721937000045353,\n",
       " 0.029040879760471389,\n",
       " 0.034986553366762138,\n",
       " -0.00063514873337909387,\n",
       " 0.011553757498077613,\n",
       " 0.025271757116624161,\n",
       " 0.0022758951271271079,\n",
       " 0.022003078451740682,\n",
       " -0.017259581353937906,\n",
       " -0.028841734532508101,\n",
       " 0.02346565176915583,\n",
       " 0.063141938734764202,\n",
       " 0.0058956723774503447,\n",
       " 0.046336844411032356,\n",
       " 0.076473761593816095,\n",
       " 0.058946903205707224,\n",
       " 0.071622426080144533,\n",
       " 0.060646301991710998,\n",
       " 0.002673443541233366,\n",
       " 0.03651224189388811,\n",
       " 0.048753044929996568,\n",
       " 0.043030623619374597,\n",
       " 0.07834193634430453,\n",
       " -0.01809565884631013,\n",
       " -0.0012449440120306068,\n",
       " 0.043521161297266908,\n",
       " 0.10836784156100167,\n",
       " -0.028995003315155268,\n",
       " 0.0031795222068215479,\n",
       " 0.066387053284905281,\n",
       " 0.069120839969169054,\n",
       " 0.12209479064715296,\n",
       " 0.032433042285231833,\n",
       " 0.039004043526677856,\n",
       " 0.10520627446147224,\n",
       " -0.064739860509807484,\n",
       " 0.060408605035872455,\n",
       " 0.01890352681850329,\n",
       " 0.056931021473989533,\n",
       " 0.060328944111633191,\n",
       " 0.073955665480857732,\n",
       " -0.032233212021212293,\n",
       " 0.032043065417634624,\n",
       " 0.059902893964899742,\n",
       " 0.10142924585285663,\n",
       " 0.054675110589577601,\n",
       " -0.024601472544599969,\n",
       " -0.011417614109414853,\n",
       " 0.10862352147683747,\n",
       " 0.056973609194466285,\n",
       " -0.0048159054287848857,\n",
       " 0.05234912523161054,\n",
       " -0.010497104786371525,\n",
       " 0.13379234617405558,\n",
       " 0.057423285052059334,\n",
       " 0.12422166119190306,\n",
       " 0.066993970225400171,\n",
       " 0.13965330474648097,\n",
       " 0.051562325320629439,\n",
       " 0.076677663966954107,\n",
       " 0.11453796692192131,\n",
       " 0.18349066863352753,\n",
       " 0.0077249620561871341]"
      ]
     },
     "execution_count": 156,
     "metadata": {},
     "output_type": "execute_result"
    }
   ],
   "source": [
    "y_pred = ridge.predict(train_features)\n",
    "rss = sum((y_pred-train_target)**2)\n",
    "ret = [rss]\n",
    "ret.extend([ridge.intercept_])\n",
    "ret.extend(ridge.coef_)\n",
    "#ret"
   ]
  },
  {
   "cell_type": "code",
   "execution_count": 161,
   "metadata": {},
   "outputs": [
    {
     "data": {
      "text/plain": [
       "Lasso(alpha=0.1, copy_X=True, fit_intercept=True, max_iter=1000,\n",
       "   normalize=False, positive=False, precompute=False, random_state=None,\n",
       "   selection='cyclic', tol=0.0001, warm_start=False)"
      ]
     },
     "execution_count": 161,
     "metadata": {},
     "output_type": "execute_result"
    }
   ],
   "source": [
    "from sklearn.linear_model import Lasso\n",
    "lasso = linear_model.Lasso(alpha=0.1)\n",
    "lasso.fit(train_features, train_target) "
   ]
  },
  {
   "cell_type": "code",
   "execution_count": 167,
   "metadata": {},
   "outputs": [
    {
     "data": {
      "text/plain": [
       "Index(['LotFrontage', 'LotArea', 'OverallQual', 'OverallCond', 'YearBuilt',\n",
       "       'YearRemodAdd', 'MasVnrArea', 'ExterQual', 'ExterCond', 'BsmtQual',\n",
       "       ...\n",
       "       'hasDeck_No', 'hasDeck_Yes', 'hasOpenPorch_No', 'hasOpenPorch_Yes',\n",
       "       'hasEnlosedPorch_No', 'hasEnlosedPorch_Yes', 'hasX3SsnPorch_No',\n",
       "       'hasX3SsnPorch_Yes', 'hasScreenPorch_No', 'hasScreenPorch_Yes'],\n",
       "      dtype='object', length=194)"
      ]
     },
     "execution_count": 167,
     "metadata": {},
     "output_type": "execute_result"
    }
   ],
   "source": [
    "train_features.columns"
   ]
  },
  {
   "cell_type": "code",
   "execution_count": 162,
   "metadata": {},
   "outputs": [
    {
     "name": "stdout",
     "output_type": "stream",
     "text": [
      "[ 0.00251291  0.          0.08172085  0.         -0.0183379   0.\n",
      "  0.00250625  0.          0.          0.          0.          0.\n",
      "  0.00507232  0.0039047   0.         -0.          0.          0.          0.\n",
      "  0.         -0.         -0.          0.          0.          0.          0.\n",
      "  0.          0.         -0.          0.          0.03161064  0.          0.\n",
      "  0.0019896  -0.          0.00013555 -0.          0.          0.          0.\n",
      "  0.          0.00560093  0.00107878 -0.          0.         -0.          0.\n",
      " -0.          0.          0.          0.          0.00267408 -0.         -0.\n",
      " -0.          0.         -0.         -0.          0.         -0.         -0.\n",
      " -0.          0.          0.          0.         -0.         -0.          0.\n",
      "  0.         -0.         -0.         -0.          0.          0.          0.\n",
      " -0.          0.          0.          0.         -0.         -0.          0.\n",
      " -0.          0.         -0.         -0.         -0.          0.          0.\n",
      "  0.         -0.          0.         -0.         -0.          0.         -0.\n",
      " -0.         -0.          0.          0.         -0.         -0.         -0.\n",
      " -0.          0.          0.          0.          0.          0.         -0.\n",
      " -0.         -0.          0.         -0.         -0.         -0.         -0.\n",
      "  0.         -0.          0.         -0.         -0.         -0.         -0.\n",
      "  0.         -0.         -0.         -0.         -0.         -0.          0.\n",
      "  0.          0.         -0.         -0.          0.         -0.          0.\n",
      "  0.         -0.          0.         -0.         -0.         -0.         -0.\n",
      "  0.          0.         -0.          0.         -0.         -0.          0.\n",
      " -0.         -0.         -0.         -0.          0.         -0.         -0.\n",
      " -0.         -0.         -0.          0.         -0.         -0.         -0.\n",
      " -0.          0.          0.         -0.         -0.          0.         -0.\n",
      " -0.          0.          0.          0.         -0.         -0.         -0.\n",
      " -0.         -0.         -0.          0.         -0.          0.         -0.\n",
      "  0.          0.         -0.         -0.          0.         -0.          0.        ]\n"
     ]
    }
   ],
   "source": [
    "print(lasso.coef_)"
   ]
  },
  {
   "cell_type": "code",
   "execution_count": null,
   "metadata": {
    "collapsed": true
   },
   "outputs": [],
   "source": [
    "feats = {} # a dict to hold feature_name: feature_importance\n",
    "for feature, importance in zip(data.columns, model.feature_importances_):\n",
    "    feats[feature] = importance #add the name/value pair \n",
    "\n",
    "importances = pd.DataFrame.from_dict(feats, orient='index').rename(columns={0: 'Gini-importance'})\n",
    "importances.sort_values(by='Gini-importance').plot(kind='bar', rot=45)"
   ]
  },
  {
   "cell_type": "code",
   "execution_count": null,
   "metadata": {
    "collapsed": true
   },
   "outputs": [],
   "source": []
  },
  {
   "cell_type": "code",
   "execution_count": null,
   "metadata": {
    "collapsed": true
   },
   "outputs": [],
   "source": []
  }
 ],
 "metadata": {
  "kernelspec": {
   "display_name": "Python 3",
   "language": "python",
   "name": "python3"
  },
  "language_info": {
   "codemirror_mode": {
    "name": "ipython",
    "version": 3
   },
   "file_extension": ".py",
   "mimetype": "text/x-python",
   "name": "python",
   "nbconvert_exporter": "python",
   "pygments_lexer": "ipython3",
   "version": "3.6.3"
  }
 },
 "nbformat": 4,
 "nbformat_minor": 2
}
