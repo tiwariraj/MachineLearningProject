{
 "cells": [
  {
   "cell_type": "code",
   "execution_count": 19,
   "metadata": {
    "collapsed": true
   },
   "outputs": [],
   "source": [
    "#Linear Regression\n",
    "#### Your code here\n",
    "import numpy as np\n",
    "import pandas as pd\n",
    "\n",
    "from pandas import Series, DataFrame\n",
    "import scipy\n",
    "from scipy.stats import spearmanr\n",
    "\n",
    "from pylab import rcParams\n",
    "import seaborn as sb\n",
    "import matplotlib.pyplot as plt\n",
    "\n",
    "import sklearn\n",
    "from sklearn import linear_model\n",
    "from sklearn.linear_model import LinearRegression\n",
    "from sklearn.preprocessing import scale \n",
    "from collections import Counter\n",
    "from sklearn.model_selection import cross_val_predict"
   ]
  },
  {
   "cell_type": "code",
   "execution_count": 20,
   "metadata": {
    "collapsed": true
   },
   "outputs": [],
   "source": [
    "%matplotlib inline\n",
    "rcParams['figure.figsize'] = 5, 4\n",
    "sb.set_style('whitegrid')"
   ]
  },
  {
   "cell_type": "code",
   "execution_count": 7,
   "metadata": {
    "collapsed": true
   },
   "outputs": [],
   "source": [
    "#Multiple Linear Regression on the housing Data\n",
    "train = pd.read_csv('clean_train.csv')"
   ]
  },
  {
   "cell_type": "code",
   "execution_count": 8,
   "metadata": {
    "collapsed": true
   },
   "outputs": [],
   "source": [
    "train = train.drop('Unnamed: 0', axis=1)"
   ]
  },
  {
   "cell_type": "code",
   "execution_count": 9,
   "metadata": {},
   "outputs": [
    {
     "data": {
      "text/html": [
       "<div>\n",
       "<style>\n",
       "    .dataframe thead tr:only-child th {\n",
       "        text-align: right;\n",
       "    }\n",
       "\n",
       "    .dataframe thead th {\n",
       "        text-align: left;\n",
       "    }\n",
       "\n",
       "    .dataframe tbody tr th {\n",
       "        vertical-align: top;\n",
       "    }\n",
       "</style>\n",
       "<table border=\"1\" class=\"dataframe\">\n",
       "  <thead>\n",
       "    <tr style=\"text-align: right;\">\n",
       "      <th></th>\n",
       "      <th>Id</th>\n",
       "      <th>MSSubClass</th>\n",
       "      <th>MSZoning</th>\n",
       "      <th>LotFrontage</th>\n",
       "      <th>LotArea</th>\n",
       "      <th>LotShape</th>\n",
       "      <th>LandContour</th>\n",
       "      <th>LotConfig</th>\n",
       "      <th>LandSlope</th>\n",
       "      <th>Neighborhood</th>\n",
       "      <th>...</th>\n",
       "      <th>TotalFinSF</th>\n",
       "      <th>AbvGrndRoomSize</th>\n",
       "      <th>YrSold_Garage_Difference</th>\n",
       "      <th>hasDeck</th>\n",
       "      <th>hasOpenPorch</th>\n",
       "      <th>hasEnlosedPorch</th>\n",
       "      <th>hasX3SsnPorch</th>\n",
       "      <th>hasScreenPorch</th>\n",
       "      <th>hasPool</th>\n",
       "      <th>hasFence</th>\n",
       "    </tr>\n",
       "  </thead>\n",
       "  <tbody>\n",
       "    <tr>\n",
       "      <th>0</th>\n",
       "      <td>1</td>\n",
       "      <td>2 story newer</td>\n",
       "      <td>low density</td>\n",
       "      <td>65.0</td>\n",
       "      <td>9.041922</td>\n",
       "      <td>Reg</td>\n",
       "      <td>Lvl</td>\n",
       "      <td>Inside</td>\n",
       "      <td>Gtl</td>\n",
       "      <td>CollgCr</td>\n",
       "      <td>...</td>\n",
       "      <td>7.789869</td>\n",
       "      <td>213.750000</td>\n",
       "      <td>1.791759</td>\n",
       "      <td>No</td>\n",
       "      <td>Yes</td>\n",
       "      <td>No</td>\n",
       "      <td>No</td>\n",
       "      <td>No</td>\n",
       "      <td>0</td>\n",
       "      <td>0</td>\n",
       "    </tr>\n",
       "    <tr>\n",
       "      <th>1</th>\n",
       "      <td>2</td>\n",
       "      <td>1 story (new styles)</td>\n",
       "      <td>low density</td>\n",
       "      <td>80.0</td>\n",
       "      <td>9.169518</td>\n",
       "      <td>Reg</td>\n",
       "      <td>Lvl</td>\n",
       "      <td>FR2</td>\n",
       "      <td>Gtl</td>\n",
       "      <td>Veenker</td>\n",
       "      <td>...</td>\n",
       "      <td>7.714231</td>\n",
       "      <td>210.333333</td>\n",
       "      <td>3.465736</td>\n",
       "      <td>Yes</td>\n",
       "      <td>No</td>\n",
       "      <td>No</td>\n",
       "      <td>No</td>\n",
       "      <td>No</td>\n",
       "      <td>0</td>\n",
       "      <td>0</td>\n",
       "    </tr>\n",
       "    <tr>\n",
       "      <th>2</th>\n",
       "      <td>3</td>\n",
       "      <td>2 story newer</td>\n",
       "      <td>low density</td>\n",
       "      <td>68.0</td>\n",
       "      <td>9.328123</td>\n",
       "      <td>IR1</td>\n",
       "      <td>Lvl</td>\n",
       "      <td>Inside</td>\n",
       "      <td>Gtl</td>\n",
       "      <td>CollgCr</td>\n",
       "      <td>...</td>\n",
       "      <td>7.728416</td>\n",
       "      <td>297.666667</td>\n",
       "      <td>2.079442</td>\n",
       "      <td>No</td>\n",
       "      <td>Yes</td>\n",
       "      <td>No</td>\n",
       "      <td>No</td>\n",
       "      <td>No</td>\n",
       "      <td>0</td>\n",
       "      <td>0</td>\n",
       "    </tr>\n",
       "    <tr>\n",
       "      <th>3</th>\n",
       "      <td>4</td>\n",
       "      <td>2 story older</td>\n",
       "      <td>low density</td>\n",
       "      <td>60.0</td>\n",
       "      <td>9.164296</td>\n",
       "      <td>IR1</td>\n",
       "      <td>Lvl</td>\n",
       "      <td>Corner</td>\n",
       "      <td>Gtl</td>\n",
       "      <td>Crawfor</td>\n",
       "      <td>...</td>\n",
       "      <td>7.566828</td>\n",
       "      <td>245.285714</td>\n",
       "      <td>2.197225</td>\n",
       "      <td>No</td>\n",
       "      <td>Yes</td>\n",
       "      <td>Yes</td>\n",
       "      <td>No</td>\n",
       "      <td>No</td>\n",
       "      <td>0</td>\n",
       "      <td>0</td>\n",
       "    </tr>\n",
       "    <tr>\n",
       "      <th>4</th>\n",
       "      <td>5</td>\n",
       "      <td>2 story newer</td>\n",
       "      <td>low density</td>\n",
       "      <td>84.0</td>\n",
       "      <td>9.565214</td>\n",
       "      <td>IR1</td>\n",
       "      <td>Lvl</td>\n",
       "      <td>FR2</td>\n",
       "      <td>Gtl</td>\n",
       "      <td>NoRidge</td>\n",
       "      <td>...</td>\n",
       "      <td>7.956126</td>\n",
       "      <td>244.222222</td>\n",
       "      <td>2.197225</td>\n",
       "      <td>Yes</td>\n",
       "      <td>Yes</td>\n",
       "      <td>No</td>\n",
       "      <td>No</td>\n",
       "      <td>No</td>\n",
       "      <td>0</td>\n",
       "      <td>0</td>\n",
       "    </tr>\n",
       "  </tbody>\n",
       "</table>\n",
       "<p>5 rows × 84 columns</p>\n",
       "</div>"
      ],
      "text/plain": [
       "   Id            MSSubClass     MSZoning  LotFrontage   LotArea LotShape  \\\n",
       "0   1         2 story newer  low density         65.0  9.041922      Reg   \n",
       "1   2  1 story (new styles)  low density         80.0  9.169518      Reg   \n",
       "2   3         2 story newer  low density         68.0  9.328123      IR1   \n",
       "3   4         2 story older  low density         60.0  9.164296      IR1   \n",
       "4   5         2 story newer  low density         84.0  9.565214      IR1   \n",
       "\n",
       "  LandContour LotConfig LandSlope Neighborhood   ...    TotalFinSF  \\\n",
       "0         Lvl    Inside       Gtl      CollgCr   ...      7.789869   \n",
       "1         Lvl       FR2       Gtl      Veenker   ...      7.714231   \n",
       "2         Lvl    Inside       Gtl      CollgCr   ...      7.728416   \n",
       "3         Lvl    Corner       Gtl      Crawfor   ...      7.566828   \n",
       "4         Lvl       FR2       Gtl      NoRidge   ...      7.956126   \n",
       "\n",
       "  AbvGrndRoomSize YrSold_Garage_Difference  hasDeck  hasOpenPorch  \\\n",
       "0      213.750000                 1.791759       No           Yes   \n",
       "1      210.333333                 3.465736      Yes            No   \n",
       "2      297.666667                 2.079442       No           Yes   \n",
       "3      245.285714                 2.197225       No           Yes   \n",
       "4      244.222222                 2.197225      Yes           Yes   \n",
       "\n",
       "   hasEnlosedPorch  hasX3SsnPorch hasScreenPorch hasPool hasFence  \n",
       "0               No             No             No       0        0  \n",
       "1               No             No             No       0        0  \n",
       "2               No             No             No       0        0  \n",
       "3              Yes             No             No       0        0  \n",
       "4               No             No             No       0        0  \n",
       "\n",
       "[5 rows x 84 columns]"
      ]
     },
     "execution_count": 9,
     "metadata": {},
     "output_type": "execute_result"
    }
   ],
   "source": [
    "train.head()"
   ]
  },
  {
   "cell_type": "code",
   "execution_count": 10,
   "metadata": {
    "collapsed": true
   },
   "outputs": [],
   "source": [
    "train_features = train.loc[:, 'MSSubClass':'hasFence']"
   ]
  },
  {
   "cell_type": "code",
   "execution_count": 11,
   "metadata": {
    "collapsed": true
   },
   "outputs": [],
   "source": [
    "train_target = train_features.loc[:,'SalePrice']\n",
    "train_target = np.log(train_target.astype(float))"
   ]
  },
  {
   "cell_type": "code",
   "execution_count": 12,
   "metadata": {},
   "outputs": [
    {
     "data": {
      "text/plain": [
       "(array([], dtype=int64),)"
      ]
     },
     "execution_count": 12,
     "metadata": {},
     "output_type": "execute_result"
    }
   ],
   "source": [
    "np.where(np.isinf(train_target))"
   ]
  },
  {
   "cell_type": "code",
   "execution_count": 13,
   "metadata": {
    "collapsed": true
   },
   "outputs": [],
   "source": [
    "train_features.drop('SalePrice', axis=1,inplace=True)"
   ]
  },
  {
   "cell_type": "code",
   "execution_count": 15,
   "metadata": {
    "collapsed": true
   },
   "outputs": [],
   "source": [
    "#MLRSPECIFIC \n",
    "train_features_mlr = pd.get_dummies(train_features,drop_first=True)"
   ]
  },
  {
   "cell_type": "code",
   "execution_count": 111,
   "metadata": {
    "collapsed": true
   },
   "outputs": [],
   "source": [
    "train_features = pd.get_dummies(train_features)#,drop_first=False)"
   ]
  },
  {
   "cell_type": "code",
   "execution_count": 16,
   "metadata": {},
   "outputs": [
    {
     "data": {
      "text/plain": [
       "Index(['LotFrontage', 'LotArea', 'OverallQual', 'OverallCond', 'YearBuilt',\n",
       "       'YearRemodAdd', 'MasVnrArea', 'ExterQual', 'ExterCond', 'BsmtQual',\n",
       "       ...\n",
       "       'SaleCondition_AdjLand', 'SaleCondition_Alloca', 'SaleCondition_Family',\n",
       "       'SaleCondition_Normal', 'SaleCondition_Partial', 'hasDeck_Yes',\n",
       "       'hasOpenPorch_Yes', 'hasEnlosedPorch_Yes', 'hasX3SsnPorch_Yes',\n",
       "       'hasScreenPorch_Yes'],\n",
       "      dtype='object', length=167)"
      ]
     },
     "execution_count": 16,
     "metadata": {},
     "output_type": "execute_result"
    }
   ],
   "source": [
    "train_features_mlr.columns\n",
    "#train_features.columns"
   ]
  },
  {
   "cell_type": "code",
   "execution_count": 113,
   "metadata": {
    "collapsed": true
   },
   "outputs": [],
   "source": [
    "import statsmodels.api as sm"
   ]
  },
  {
   "cell_type": "code",
   "execution_count": 114,
   "metadata": {
    "collapsed": true
   },
   "outputs": [],
   "source": [
    "#try:  # train_test_split was moved in 0.18.0\n",
    "#    from sklearn.model_selection import train_test_split\n",
    "#except:  # Following import works through 0.19 but outputs a warning in 0.18\n",
    "#    from sklearn.cross_validation import train_test_split\n",
    "#X_train, X_test, y_train, y_test = train_test_split(train_features, train_target, test_size=0.2, random_state=42)"
   ]
  },
  {
   "cell_type": "code",
   "execution_count": 115,
   "metadata": {
    "collapsed": true
   },
   "outputs": [],
   "source": [
    "model = LinearRegression()"
   ]
  },
  {
   "cell_type": "code",
   "execution_count": 96,
   "metadata": {
    "collapsed": true
   },
   "outputs": [],
   "source": [
    "#text_x = train_features.loc[:,('LotFrontage', 'LotArea', 'OverallQual', 'OverallCond', 'YearBuilt',\n",
    "#       'YearRemodAdd', 'MasVnrArea', 'ExterQual', 'ExterCond', 'BsmtQual','hasDeck_No', 'hasDeck_Yes', 'hasOpenPorch_No', 'hasOpenPorch_Yes',\n",
    "#       'hasEnlosedPorch_No', 'hasEnlosedPorch_Yes', 'hasX3SsnPorch_No',\n",
    "#       'hasX3SsnPorch_Yes', 'hasScreenPorch_No', 'hasScreenPorch_Yes')]"
   ]
  },
  {
   "cell_type": "code",
   "execution_count": 116,
   "metadata": {},
   "outputs": [
    {
     "data": {
      "text/plain": [
       "Index(['LotFrontage', 'LotArea', 'OverallQual', 'OverallCond', 'YearBuilt',\n",
       "       'YearRemodAdd', 'MasVnrArea', 'ExterQual', 'ExterCond', 'BsmtQual',\n",
       "       ...\n",
       "       'hasDeck_No', 'hasDeck_Yes', 'hasOpenPorch_No', 'hasOpenPorch_Yes',\n",
       "       'hasEnlosedPorch_No', 'hasEnlosedPorch_Yes', 'hasX3SsnPorch_No',\n",
       "       'hasX3SsnPorch_Yes', 'hasScreenPorch_No', 'hasScreenPorch_Yes'],\n",
       "      dtype='object', length=194)"
      ]
     },
     "execution_count": 116,
     "metadata": {},
     "output_type": "execute_result"
    }
   ],
   "source": [
    "train_features.columns\n",
    "#test_x = train_features.loc[:,('OverallQual','YearBuilt','ExterQual')]"
   ]
  },
  {
   "cell_type": "code",
   "execution_count": 117,
   "metadata": {},
   "outputs": [
    {
     "data": {
      "text/html": [
       "<div>\n",
       "<style>\n",
       "    .dataframe thead tr:only-child th {\n",
       "        text-align: right;\n",
       "    }\n",
       "\n",
       "    .dataframe thead th {\n",
       "        text-align: left;\n",
       "    }\n",
       "\n",
       "    .dataframe tbody tr th {\n",
       "        vertical-align: top;\n",
       "    }\n",
       "</style>\n",
       "<table border=\"1\" class=\"dataframe\">\n",
       "  <thead>\n",
       "    <tr style=\"text-align: right;\">\n",
       "      <th></th>\n",
       "      <th>OverallQual</th>\n",
       "      <th>OverallCond</th>\n",
       "      <th>YearRemodAdd</th>\n",
       "      <th>ExterQual</th>\n",
       "      <th>ExterCond</th>\n",
       "      <th>BsmtQual</th>\n",
       "      <th>BsmtCond</th>\n",
       "      <th>BsmtExposure</th>\n",
       "      <th>BsmtFinType1</th>\n",
       "      <th>BsmtFinType2</th>\n",
       "      <th>...</th>\n",
       "      <th>GarageFinish</th>\n",
       "      <th>GarageCars</th>\n",
       "      <th>GarageQual</th>\n",
       "      <th>GarageCond</th>\n",
       "      <th>MoSold</th>\n",
       "      <th>YrSold</th>\n",
       "      <th>TotalHalfBath</th>\n",
       "      <th>TotalFullBath</th>\n",
       "      <th>hasPool</th>\n",
       "      <th>hasFence</th>\n",
       "    </tr>\n",
       "  </thead>\n",
       "  <tbody>\n",
       "    <tr>\n",
       "      <th>0</th>\n",
       "      <td>7</td>\n",
       "      <td>5</td>\n",
       "      <td>1</td>\n",
       "      <td>3</td>\n",
       "      <td>2</td>\n",
       "      <td>4</td>\n",
       "      <td>3</td>\n",
       "      <td>1</td>\n",
       "      <td>6</td>\n",
       "      <td>1</td>\n",
       "      <td>...</td>\n",
       "      <td>5</td>\n",
       "      <td>2</td>\n",
       "      <td>3</td>\n",
       "      <td>3</td>\n",
       "      <td>2</td>\n",
       "      <td>2008</td>\n",
       "      <td>1</td>\n",
       "      <td>3</td>\n",
       "      <td>0</td>\n",
       "      <td>0</td>\n",
       "    </tr>\n",
       "    <tr>\n",
       "      <th>1</th>\n",
       "      <td>6</td>\n",
       "      <td>8</td>\n",
       "      <td>1</td>\n",
       "      <td>2</td>\n",
       "      <td>2</td>\n",
       "      <td>4</td>\n",
       "      <td>3</td>\n",
       "      <td>4</td>\n",
       "      <td>5</td>\n",
       "      <td>1</td>\n",
       "      <td>...</td>\n",
       "      <td>5</td>\n",
       "      <td>2</td>\n",
       "      <td>3</td>\n",
       "      <td>3</td>\n",
       "      <td>5</td>\n",
       "      <td>2007</td>\n",
       "      <td>1</td>\n",
       "      <td>2</td>\n",
       "      <td>0</td>\n",
       "      <td>0</td>\n",
       "    </tr>\n",
       "    <tr>\n",
       "      <th>2</th>\n",
       "      <td>7</td>\n",
       "      <td>5</td>\n",
       "      <td>0</td>\n",
       "      <td>3</td>\n",
       "      <td>2</td>\n",
       "      <td>4</td>\n",
       "      <td>3</td>\n",
       "      <td>2</td>\n",
       "      <td>6</td>\n",
       "      <td>1</td>\n",
       "      <td>...</td>\n",
       "      <td>5</td>\n",
       "      <td>2</td>\n",
       "      <td>3</td>\n",
       "      <td>3</td>\n",
       "      <td>9</td>\n",
       "      <td>2008</td>\n",
       "      <td>1</td>\n",
       "      <td>3</td>\n",
       "      <td>0</td>\n",
       "      <td>0</td>\n",
       "    </tr>\n",
       "    <tr>\n",
       "      <th>3</th>\n",
       "      <td>7</td>\n",
       "      <td>5</td>\n",
       "      <td>0</td>\n",
       "      <td>2</td>\n",
       "      <td>2</td>\n",
       "      <td>3</td>\n",
       "      <td>4</td>\n",
       "      <td>1</td>\n",
       "      <td>5</td>\n",
       "      <td>1</td>\n",
       "      <td>...</td>\n",
       "      <td>5</td>\n",
       "      <td>3</td>\n",
       "      <td>3</td>\n",
       "      <td>3</td>\n",
       "      <td>2</td>\n",
       "      <td>2006</td>\n",
       "      <td>0</td>\n",
       "      <td>2</td>\n",
       "      <td>0</td>\n",
       "      <td>0</td>\n",
       "    </tr>\n",
       "    <tr>\n",
       "      <th>4</th>\n",
       "      <td>8</td>\n",
       "      <td>5</td>\n",
       "      <td>1</td>\n",
       "      <td>3</td>\n",
       "      <td>2</td>\n",
       "      <td>4</td>\n",
       "      <td>3</td>\n",
       "      <td>3</td>\n",
       "      <td>6</td>\n",
       "      <td>1</td>\n",
       "      <td>...</td>\n",
       "      <td>5</td>\n",
       "      <td>3</td>\n",
       "      <td>3</td>\n",
       "      <td>3</td>\n",
       "      <td>12</td>\n",
       "      <td>2008</td>\n",
       "      <td>1</td>\n",
       "      <td>3</td>\n",
       "      <td>0</td>\n",
       "      <td>0</td>\n",
       "    </tr>\n",
       "  </tbody>\n",
       "</table>\n",
       "<p>5 rows × 34 columns</p>\n",
       "</div>"
      ],
      "text/plain": [
       "   OverallQual  OverallCond  YearRemodAdd  ExterQual  ExterCond  BsmtQual  \\\n",
       "0            7            5             1          3          2         4   \n",
       "1            6            8             1          2          2         4   \n",
       "2            7            5             0          3          2         4   \n",
       "3            7            5             0          2          2         3   \n",
       "4            8            5             1          3          2         4   \n",
       "\n",
       "   BsmtCond  BsmtExposure  BsmtFinType1  BsmtFinType2    ...     GarageFinish  \\\n",
       "0         3             1             6             1    ...                5   \n",
       "1         3             4             5             1    ...                5   \n",
       "2         3             2             6             1    ...                5   \n",
       "3         4             1             5             1    ...                5   \n",
       "4         3             3             6             1    ...                5   \n",
       "\n",
       "   GarageCars  GarageQual  GarageCond  MoSold  YrSold  TotalHalfBath  \\\n",
       "0           2           3           3       2    2008              1   \n",
       "1           2           3           3       5    2007              1   \n",
       "2           2           3           3       9    2008              1   \n",
       "3           3           3           3       2    2006              0   \n",
       "4           3           3           3      12    2008              1   \n",
       "\n",
       "   TotalFullBath  hasPool  hasFence  \n",
       "0              3        0         0  \n",
       "1              2        0         0  \n",
       "2              3        0         0  \n",
       "3              2        0         0  \n",
       "4              3        0         0  \n",
       "\n",
       "[5 rows x 34 columns]"
      ]
     },
     "execution_count": 117,
     "metadata": {},
     "output_type": "execute_result"
    }
   ],
   "source": [
    "train_features.select_dtypes([\"int64\"]).head()"
   ]
  },
  {
   "cell_type": "code",
   "execution_count": 118,
   "metadata": {
    "collapsed": true
   },
   "outputs": [],
   "source": [
    "#np.where(np.isnan(train_features))\n",
    "#train_features[~train_features.isin([-np.inf]).any(1)].replace()\n",
    "#np.isinf(train_features.values.any())\n",
    "#np.isnan(train_target.values.any())\n",
    "#train_features.select_dtypes([\"float64\"])\n",
    "train_features.replace([np.inf,-np.inf],0, inplace=True)\n",
    "#train_features[train_features.columns]"
   ]
  },
  {
   "cell_type": "code",
   "execution_count": 119,
   "metadata": {
    "collapsed": true
   },
   "outputs": [],
   "source": [
    "#### Your code here\n",
    "results = model.fit(train_features, train_target)\n",
    "#results.score(train_features, train_target)"
   ]
  },
  {
   "cell_type": "code",
   "execution_count": 120,
   "metadata": {},
   "outputs": [
    {
     "data": {
      "text/plain": [
       "0.92518799771564941"
      ]
     },
     "execution_count": 120,
     "metadata": {},
     "output_type": "execute_result"
    }
   ],
   "source": [
    "results.score(train_features, train_target)"
   ]
  },
  {
   "cell_type": "code",
   "execution_count": 194,
   "metadata": {},
   "outputs": [
    {
     "data": {
      "text/plain": [
       "0.011928961254833751"
      ]
     },
     "execution_count": 194,
     "metadata": {},
     "output_type": "execute_result"
    }
   ],
   "source": [
    "y_pred = results.predict(train_features)\n",
    "mean_squared_error(train_target, y_pred)"
   ]
  },
  {
   "cell_type": "code",
   "execution_count": 121,
   "metadata": {},
   "outputs": [
    {
     "data": {
      "text/plain": [
       "{'copy_X': True, 'fit_intercept': True, 'n_jobs': 1, 'normalize': False}"
      ]
     },
     "execution_count": 121,
     "metadata": {},
     "output_type": "execute_result"
    }
   ],
   "source": [
    "results.get_params(deep=True)"
   ]
  },
  {
   "cell_type": "code",
   "execution_count": 122,
   "metadata": {
    "collapsed": true
   },
   "outputs": [],
   "source": [
    "        predicted = cross_val_predict(model, train_features, train_target, cv=10)"
   ]
  },
  {
   "cell_type": "code",
   "execution_count": 123,
   "metadata": {},
   "outputs": [
    {
     "data": {
      "image/png": "[encoded data removed]",
      "text/plain": [
       "<matplotlib.figure.Figure at 0x1b06b5a1860>"
      ]
     },
     "metadata": {},
     "output_type": "display_data"
    }
   ],
   "source": [
    "fig, ax = plt.subplots()\n",
    "ax.scatter(train_target, predicted, edgecolors=(0, 0, 0))\n",
    "ax.plot([train_target.min(), train_target.max()], [train_target.min(), train_target.max()], 'k--', lw=4)\n",
    "ax.set_xlabel('Measured')\n",
    "ax.set_ylabel('Predicted')\n",
    "plt.show()"
   ]
  },
  {
   "cell_type": "code",
   "execution_count": 130,
   "metadata": {
    "collapsed": true
   },
   "outputs": [],
   "source": [
    "from sklearn.linear_model import BayesianRidge\n",
    "from sklearn.linear_model import Ridge"
   ]
  },
  {
   "cell_type": "code",
   "execution_count": 127,
   "metadata": {},
   "outputs": [
    {
     "data": {
      "text/plain": [
       "BayesianRidge(alpha_1=1e-06, alpha_2=1e-06, compute_score=True, copy_X=True,\n",
       "       fit_intercept=True, lambda_1=1e-06, lambda_2=1e-06, n_iter=300,\n",
       "       normalize=False, tol=0.001, verbose=False)"
      ]
     },
     "execution_count": 127,
     "metadata": {},
     "output_type": "execute_result"
    }
   ],
   "source": [
    "# Fit the Bayesian Ridge Regression\n",
    "clf = BayesianRidge(compute_score=True)\n",
    "clf.fit(train_features, train_target)"
   ]
  },
  {
   "cell_type": "code",
   "execution_count": 135,
   "metadata": {},
   "outputs": [
    {
     "data": {
      "text/plain": [
       "0.92075039214980403"
      ]
     },
     "execution_count": 135,
     "metadata": {},
     "output_type": "execute_result"
    }
   ],
   "source": [
    "clf.score(train_features, train_target) "
   ]
  },
  {
   "cell_type": "code",
   "execution_count": 142,
   "metadata": {},
   "outputs": [
    {
     "data": {
      "text/plain": [
       "<matplotlib.legend.Legend at 0x1b06afbde48>"
      ]
     },
     "execution_count": 142,
     "metadata": {},
     "output_type": "execute_result"
    },
    {
     "data": {
      "image/png": "[encoded data removed]",
      "text/plain": [
       "<matplotlib.figure.Figure at 0x1b06b7d2080>"
      ]
     },
     "metadata": {},
     "output_type": "display_data"
    }
   ],
   "source": [
    "lw = 2\n",
    "plt.figure(figsize=(6, 5))\n",
    "plt.title(\"Weights of the model\")\n",
    "plt.plot(clf.coef_, color='lightgreen', linewidth=lw,\n",
    "         label=\"Bayesian Ridge estimate\")\n",
    "#plt.plot(clf., color='gold', linewidth=lw, label=\"Ground truth\")\n",
    "plt.xlabel(\"Features\")\n",
    "plt.ylabel(\"Values of the weights\")\n",
    "plt.legend(loc=\"best\", prop=dict(size=12))\n",
    "\n",
    "# plt.figure(figsize=(6, 5))\n",
    "# plt.title(\"Histogram of the weights\")\n",
    "# plt.hist(clf.coef_, bins=n_features, color='gold', log=True,\n",
    "#          edgecolor='black')\n",
    "# plt.scatter(clf.coef_[relevant_features], 5 * np.ones(len(relevant_features)),\n",
    "#             color='navy', label=\"Relevant features\")\n",
    "# plt.ylabel(\"Features\")\n",
    "# plt.xlabel(\"Values of the weights\")\n",
    "# plt.legend(loc=\"upper left\")\n",
    "\n",
    "# plt.figure(figsize=(6, 5))\n",
    "# plt.title(\"Marginal log-likelihood\")\n",
    "# plt.plot(clf.scores_, color='navy', linewidth=lw)\n",
    "# plt.ylabel(\"Score\")\n",
    "# plt.xlabel(\"Iterations\")\n"
   ]
  },
  {
   "cell_type": "code",
   "execution_count": 132,
   "metadata": {},
   "outputs": [
    {
     "data": {
      "text/plain": [
       "Ridge(alpha=1.0, copy_X=True, fit_intercept=True, max_iter=None,\n",
       "   normalize=False, random_state=None, solver='auto', tol=0.001)"
      ]
     },
     "execution_count": 132,
     "metadata": {},
     "output_type": "execute_result"
    }
   ],
   "source": [
    "ridge = Ridge(alpha=1.0)\n",
    "ridge.fit(train_features, train_target) "
   ]
  },
  {
   "cell_type": "code",
   "execution_count": 134,
   "metadata": {},
   "outputs": [
    {
     "data": {
      "text/plain": [
       "0.92492571735327511"
      ]
     },
     "execution_count": 134,
     "metadata": {},
     "output_type": "execute_result"
    }
   ],
   "source": [
    "ridge.score(train_features, train_target) "
   ]
  },
  {
   "cell_type": "code",
   "execution_count": 149,
   "metadata": {},
   "outputs": [
    {
     "data": {
      "image/png": "[encoded data removed]",
      "text/plain": [
       "<matplotlib.figure.Figure at 0x1b06b65a550>"
      ]
     },
     "metadata": {},
     "output_type": "display_data"
    }
   ],
   "source": [
    "# n_alphas = 200\n",
    "# alphas = np.logspace(-10, -2, n_alphas)\n",
    "# coefs = []\n",
    "# for a in alphas:\n",
    "#     ridge = linear_model.Ridge(alpha=a, fit_intercept=False)\n",
    "#     ridge.fit(train_features, train_target) \n",
    "#     coefs.append(ridge.coef_)\n",
    "\n",
    "# # #############################################################################\n",
    "# Display results\n",
    "\n",
    "ax = plt.gca()\n",
    "\n",
    "ax.plot(alphas, coefs)\n",
    "ax.set_xscale('log')\n",
    "ax.set_xlim(ax.get_xlim()[::-1])  # reverse axis\n",
    "plt.xlabel('alpha')\n",
    "plt.ylabel('weights')\n",
    "plt.title('Ridge coefficients as a function of the regularization')\n",
    "plt.axis('tight')\n",
    "plt.show()"
   ]
  },
  {
   "cell_type": "code",
   "execution_count": 188,
   "metadata": {
    "collapsed": true
   },
   "outputs": [],
   "source": [
    "y_pred = ridge.predict(train_features)\n",
    "rss = sum((y_pred-train_target)**2)\n",
    "ret = [rss]\n",
    "ret.extend([ridge.intercept_])\n",
    "ret.extend(ridge.coef_)\n",
    "#ret"
   ]
  },
  {
   "cell_type": "code",
   "execution_count": 189,
   "metadata": {},
   "outputs": [
    {
     "data": {
      "text/plain": [
       "0.011934021745467132"
      ]
     },
     "execution_count": 189,
     "metadata": {},
     "output_type": "execute_result"
    }
   ],
   "source": [
    "mean_squared_error(train_target, y_pred)"
   ]
  },
  {
   "cell_type": "code",
   "execution_count": 191,
   "metadata": {},
   "outputs": [
    {
     "data": {
      "text/html": [
       "<div>\n",
       "<style>\n",
       "    .dataframe thead tr:only-child th {\n",
       "        text-align: right;\n",
       "    }\n",
       "\n",
       "    .dataframe thead th {\n",
       "        text-align: left;\n",
       "    }\n",
       "\n",
       "    .dataframe tbody tr th {\n",
       "        vertical-align: top;\n",
       "    }\n",
       "</style>\n",
       "<table border=\"1\" class=\"dataframe\">\n",
       "  <thead>\n",
       "    <tr style=\"text-align: right;\">\n",
       "      <th></th>\n",
       "      <th>Coef-importance</th>\n",
       "    </tr>\n",
       "  </thead>\n",
       "  <tbody>\n",
       "    <tr>\n",
       "      <th>MSZoning_misc</th>\n",
       "      <td>-0.215016</td>\n",
       "    </tr>\n",
       "    <tr>\n",
       "      <th>Neighborhood_Edwards</th>\n",
       "      <td>-0.105089</td>\n",
       "    </tr>\n",
       "    <tr>\n",
       "      <th>Neighborhood_MeadowV</th>\n",
       "      <td>-0.096157</td>\n",
       "    </tr>\n",
       "    <tr>\n",
       "      <th>Neighborhood_OldTown</th>\n",
       "      <td>-0.074629</td>\n",
       "    </tr>\n",
       "    <tr>\n",
       "      <th>Electrical_Mix</th>\n",
       "      <td>-0.064740</td>\n",
       "    </tr>\n",
       "    <tr>\n",
       "      <th>Neighborhood_IDOTRR</th>\n",
       "      <td>-0.064665</td>\n",
       "    </tr>\n",
       "    <tr>\n",
       "      <th>KitchenAbvGr</th>\n",
       "      <td>-0.064124</td>\n",
       "    </tr>\n",
       "    <tr>\n",
       "      <th>Neighborhood_Mitchel</th>\n",
       "      <td>-0.053061</td>\n",
       "    </tr>\n",
       "    <tr>\n",
       "      <th>Neighborhood_Sawyer</th>\n",
       "      <td>-0.045474</td>\n",
       "    </tr>\n",
       "    <tr>\n",
       "      <th>X1stFlrSF</th>\n",
       "      <td>-0.040656</td>\n",
       "    </tr>\n",
       "    <tr>\n",
       "      <th>Neighborhood_NAmes</th>\n",
       "      <td>-0.036676</td>\n",
       "    </tr>\n",
       "    <tr>\n",
       "      <th>GarageFinish</th>\n",
       "      <td>-0.036649</td>\n",
       "    </tr>\n",
       "    <tr>\n",
       "      <th>GarageType</th>\n",
       "      <td>-0.036649</td>\n",
       "    </tr>\n",
       "    <tr>\n",
       "      <th>Neighborhood_NWAmes</th>\n",
       "      <td>-0.035567</td>\n",
       "    </tr>\n",
       "    <tr>\n",
       "      <th>MSSubClass_projects</th>\n",
       "      <td>-0.033526</td>\n",
       "    </tr>\n",
       "    <tr>\n",
       "      <th>SaleType_Court Deed/Estate</th>\n",
       "      <td>-0.032233</td>\n",
       "    </tr>\n",
       "    <tr>\n",
       "      <th>LotConfig_FR3</th>\n",
       "      <td>-0.029495</td>\n",
       "    </tr>\n",
       "    <tr>\n",
       "      <th>YearBuilt</th>\n",
       "      <td>-0.029430</td>\n",
       "    </tr>\n",
       "    <tr>\n",
       "      <th>Heating_Grav</th>\n",
       "      <td>-0.028995</td>\n",
       "    </tr>\n",
       "    <tr>\n",
       "      <th>Exterior2nd_Other</th>\n",
       "      <td>-0.028842</td>\n",
       "    </tr>\n",
       "    <tr>\n",
       "      <th>SaleType_Warranty Deed</th>\n",
       "      <td>-0.024601</td>\n",
       "    </tr>\n",
       "    <tr>\n",
       "      <th>RoofMatl_Gravel &amp; Tar</th>\n",
       "      <td>-0.021099</td>\n",
       "    </tr>\n",
       "    <tr>\n",
       "      <th>Neighborhood_SWISU</th>\n",
       "      <td>-0.018523</td>\n",
       "    </tr>\n",
       "    <tr>\n",
       "      <th>Foundation_Wood</th>\n",
       "      <td>-0.018096</td>\n",
       "    </tr>\n",
       "    <tr>\n",
       "      <th>Exterior2nd_Concrete</th>\n",
       "      <td>-0.017260</td>\n",
       "    </tr>\n",
       "    <tr>\n",
       "      <th>LowQualFinSF</th>\n",
       "      <td>-0.013737</td>\n",
       "    </tr>\n",
       "    <tr>\n",
       "      <th>LotShape_IR3</th>\n",
       "      <td>-0.013027</td>\n",
       "    </tr>\n",
       "    <tr>\n",
       "      <th>SaleCondition_Abnorml</th>\n",
       "      <td>-0.011418</td>\n",
       "    </tr>\n",
       "    <tr>\n",
       "      <th>SaleCondition_Partial</th>\n",
       "      <td>-0.010497</td>\n",
       "    </tr>\n",
       "    <tr>\n",
       "      <th>BsmtHalfBath</th>\n",
       "      <td>-0.010312</td>\n",
       "    </tr>\n",
       "    <tr>\n",
       "      <th>...</th>\n",
       "      <td>...</td>\n",
       "    </tr>\n",
       "    <tr>\n",
       "      <th>hasX3SsnPorch_No</th>\n",
       "      <td>0.076678</td>\n",
       "    </tr>\n",
       "    <tr>\n",
       "      <th>Foundation_Stone</th>\n",
       "      <td>0.078342</td>\n",
       "    </tr>\n",
       "    <tr>\n",
       "      <th>BldgType_2fmCon</th>\n",
       "      <td>0.080475</td>\n",
       "    </tr>\n",
       "    <tr>\n",
       "      <th>LotShape_IR2</th>\n",
       "      <td>0.084114</td>\n",
       "    </tr>\n",
       "    <tr>\n",
       "      <th>LotConfig_CulDSac</th>\n",
       "      <td>0.085257</td>\n",
       "    </tr>\n",
       "    <tr>\n",
       "      <th>LandSlope_Mod</th>\n",
       "      <td>0.087366</td>\n",
       "    </tr>\n",
       "    <tr>\n",
       "      <th>Exterior1st_Brick</th>\n",
       "      <td>0.088722</td>\n",
       "    </tr>\n",
       "    <tr>\n",
       "      <th>Condition1_Normal</th>\n",
       "      <td>0.088914</td>\n",
       "    </tr>\n",
       "    <tr>\n",
       "      <th>Neighborhood_Crawfor</th>\n",
       "      <td>0.089239</td>\n",
       "    </tr>\n",
       "    <tr>\n",
       "      <th>RoofStyle_Shed</th>\n",
       "      <td>0.099172</td>\n",
       "    </tr>\n",
       "    <tr>\n",
       "      <th>SaleType_Other</th>\n",
       "      <td>0.101429</td>\n",
       "    </tr>\n",
       "    <tr>\n",
       "      <th>Electrical_FuseP</th>\n",
       "      <td>0.105206</td>\n",
       "    </tr>\n",
       "    <tr>\n",
       "      <th>Heating_GasW</th>\n",
       "      <td>0.108368</td>\n",
       "    </tr>\n",
       "    <tr>\n",
       "      <th>SaleCondition_AdjLand</th>\n",
       "      <td>0.108624</td>\n",
       "    </tr>\n",
       "    <tr>\n",
       "      <th>hasX3SsnPorch_Yes</th>\n",
       "      <td>0.114538</td>\n",
       "    </tr>\n",
       "    <tr>\n",
       "      <th>MSZoning_medium-high density</th>\n",
       "      <td>0.116799</td>\n",
       "    </tr>\n",
       "    <tr>\n",
       "      <th>CentralAir_Y</th>\n",
       "      <td>0.122095</td>\n",
       "    </tr>\n",
       "    <tr>\n",
       "      <th>hasOpenPorch_No</th>\n",
       "      <td>0.124222</td>\n",
       "    </tr>\n",
       "    <tr>\n",
       "      <th>Neighborhood_NoRidge</th>\n",
       "      <td>0.129170</td>\n",
       "    </tr>\n",
       "    <tr>\n",
       "      <th>Neighborhood_NridgHt</th>\n",
       "      <td>0.133145</td>\n",
       "    </tr>\n",
       "    <tr>\n",
       "      <th>hasDeck_No</th>\n",
       "      <td>0.133792</td>\n",
       "    </tr>\n",
       "    <tr>\n",
       "      <th>MSZoning_low density</th>\n",
       "      <td>0.136099</td>\n",
       "    </tr>\n",
       "    <tr>\n",
       "      <th>RoofMatl_Wood</th>\n",
       "      <td>0.137610</td>\n",
       "    </tr>\n",
       "    <tr>\n",
       "      <th>hasEnlosedPorch_No</th>\n",
       "      <td>0.139653</td>\n",
       "    </tr>\n",
       "    <tr>\n",
       "      <th>MSZoning_floating</th>\n",
       "      <td>0.153333</td>\n",
       "    </tr>\n",
       "    <tr>\n",
       "      <th>Neighborhood_StoneBr</th>\n",
       "      <td>0.157869</td>\n",
       "    </tr>\n",
       "    <tr>\n",
       "      <th>TotalFinSF</th>\n",
       "      <td>0.166036</td>\n",
       "    </tr>\n",
       "    <tr>\n",
       "      <th>hasScreenPorch_No</th>\n",
       "      <td>0.183491</td>\n",
       "    </tr>\n",
       "    <tr>\n",
       "      <th>GrLivArea</th>\n",
       "      <td>0.317525</td>\n",
       "    </tr>\n",
       "    <tr>\n",
       "      <th>Functional</th>\n",
       "      <td>0.956078</td>\n",
       "    </tr>\n",
       "  </tbody>\n",
       "</table>\n",
       "<p>194 rows × 1 columns</p>\n",
       "</div>"
      ],
      "text/plain": [
       "                              Coef-importance\n",
       "MSZoning_misc                       -0.215016\n",
       "Neighborhood_Edwards                -0.105089\n",
       "Neighborhood_MeadowV                -0.096157\n",
       "Neighborhood_OldTown                -0.074629\n",
       "Electrical_Mix                      -0.064740\n",
       "Neighborhood_IDOTRR                 -0.064665\n",
       "KitchenAbvGr                        -0.064124\n",
       "Neighborhood_Mitchel                -0.053061\n",
       "Neighborhood_Sawyer                 -0.045474\n",
       "X1stFlrSF                           -0.040656\n",
       "Neighborhood_NAmes                  -0.036676\n",
       "GarageFinish                        -0.036649\n",
       "GarageType                          -0.036649\n",
       "Neighborhood_NWAmes                 -0.035567\n",
       "MSSubClass_projects                 -0.033526\n",
       "SaleType_Court Deed/Estate          -0.032233\n",
       "LotConfig_FR3                       -0.029495\n",
       "YearBuilt                           -0.029430\n",
       "Heating_Grav                        -0.028995\n",
       "Exterior2nd_Other                   -0.028842\n",
       "SaleType_Warranty Deed              -0.024601\n",
       "RoofMatl_Gravel & Tar               -0.021099\n",
       "Neighborhood_SWISU                  -0.018523\n",
       "Foundation_Wood                     -0.018096\n",
       "Exterior2nd_Concrete                -0.017260\n",
       "LowQualFinSF                        -0.013737\n",
       "LotShape_IR3                        -0.013027\n",
       "SaleCondition_Abnorml               -0.011418\n",
       "SaleCondition_Partial               -0.010497\n",
       "BsmtHalfBath                        -0.010312\n",
       "...                                       ...\n",
       "hasX3SsnPorch_No                     0.076678\n",
       "Foundation_Stone                     0.078342\n",
       "BldgType_2fmCon                      0.080475\n",
       "LotShape_IR2                         0.084114\n",
       "LotConfig_CulDSac                    0.085257\n",
       "LandSlope_Mod                        0.087366\n",
       "Exterior1st_Brick                    0.088722\n",
       "Condition1_Normal                    0.088914\n",
       "Neighborhood_Crawfor                 0.089239\n",
       "RoofStyle_Shed                       0.099172\n",
       "SaleType_Other                       0.101429\n",
       "Electrical_FuseP                     0.105206\n",
       "Heating_GasW                         0.108368\n",
       "SaleCondition_AdjLand                0.108624\n",
       "hasX3SsnPorch_Yes                    0.114538\n",
       "MSZoning_medium-high density         0.116799\n",
       "CentralAir_Y                         0.122095\n",
       "hasOpenPorch_No                      0.124222\n",
       "Neighborhood_NoRidge                 0.129170\n",
       "Neighborhood_NridgHt                 0.133145\n",
       "hasDeck_No                           0.133792\n",
       "MSZoning_low density                 0.136099\n",
       "RoofMatl_Wood                        0.137610\n",
       "hasEnlosedPorch_No                   0.139653\n",
       "MSZoning_floating                    0.153333\n",
       "Neighborhood_StoneBr                 0.157869\n",
       "TotalFinSF                           0.166036\n",
       "hasScreenPorch_No                    0.183491\n",
       "GrLivArea                            0.317525\n",
       "Functional                           0.956078\n",
       "\n",
       "[194 rows x 1 columns]"
      ]
     },
     "execution_count": 191,
     "metadata": {},
     "output_type": "execute_result"
    }
   ],
   "source": [
    "feats = {} # a dict to hold feature_name: feature_importance\n",
    "for feature, importance in zip(train_features.columns, ridge.coef_):\n",
    "    feats[feature] = importance #add the name/value pair \n",
    "\n",
    "importances = pd.DataFrame.from_dict(feats, orient='index').rename(columns={0: 'Coef-importance'})\n",
    "importances.sort_values(by='Coef-importance')"
   ]
  },
  {
   "cell_type": "code",
   "execution_count": 161,
   "metadata": {},
   "outputs": [
    {
     "data": {
      "text/plain": [
       "Lasso(alpha=0.1, copy_X=True, fit_intercept=True, max_iter=1000,\n",
       "   normalize=False, positive=False, precompute=False, random_state=None,\n",
       "   selection='cyclic', tol=0.0001, warm_start=False)"
      ]
     },
     "execution_count": 161,
     "metadata": {},
     "output_type": "execute_result"
    }
   ],
   "source": [
    "from sklearn.linear_model import Lasso\n",
    "lasso = linear_model.Lasso(alpha=0.1)\n",
    "lasso.fit(train_features, train_target) "
   ]
  },
  {
   "cell_type": "code",
   "execution_count": 167,
   "metadata": {},
   "outputs": [
    {
     "data": {
      "text/plain": [
       "Index(['LotFrontage', 'LotArea', 'OverallQual', 'OverallCond', 'YearBuilt',\n",
       "       'YearRemodAdd', 'MasVnrArea', 'ExterQual', 'ExterCond', 'BsmtQual',\n",
       "       ...\n",
       "       'hasDeck_No', 'hasDeck_Yes', 'hasOpenPorch_No', 'hasOpenPorch_Yes',\n",
       "       'hasEnlosedPorch_No', 'hasEnlosedPorch_Yes', 'hasX3SsnPorch_No',\n",
       "       'hasX3SsnPorch_Yes', 'hasScreenPorch_No', 'hasScreenPorch_Yes'],\n",
       "      dtype='object', length=194)"
      ]
     },
     "execution_count": 167,
     "metadata": {},
     "output_type": "execute_result"
    }
   ],
   "source": [
    "train_features.columns"
   ]
  },
  {
   "cell_type": "code",
   "execution_count": 179,
   "metadata": {},
   "outputs": [
    {
     "name": "stdout",
     "output_type": "stream",
     "text": [
      "[ 0.00251291  0.          0.08172085  0.         -0.0183379   0.\n",
      "  0.00250625  0.          0.          0.          0.          0.\n",
      "  0.00507232  0.0039047   0.         -0.          0.          0.          0.\n",
      "  0.         -0.         -0.          0.          0.          0.          0.\n",
      "  0.          0.         -0.          0.          0.03161064  0.          0.\n",
      "  0.0019896  -0.          0.00013555 -0.          0.          0.          0.\n",
      "  0.          0.00560093  0.00107878 -0.          0.         -0.          0.\n",
      " -0.          0.          0.          0.          0.00267408 -0.         -0.\n",
      " -0.          0.         -0.         -0.          0.         -0.         -0.\n",
      " -0.          0.          0.          0.         -0.         -0.          0.\n",
      "  0.         -0.         -0.         -0.          0.          0.          0.\n",
      " -0.          0.          0.          0.         -0.         -0.          0.\n",
      " -0.          0.         -0.         -0.         -0.          0.          0.\n",
      "  0.         -0.          0.         -0.         -0.          0.         -0.\n",
      " -0.         -0.          0.          0.         -0.         -0.         -0.\n",
      " -0.          0.          0.          0.          0.          0.         -0.\n",
      " -0.         -0.          0.         -0.         -0.         -0.         -0.\n",
      "  0.         -0.          0.         -0.         -0.         -0.         -0.\n",
      "  0.         -0.         -0.         -0.         -0.         -0.          0.\n",
      "  0.          0.         -0.         -0.          0.         -0.          0.\n",
      "  0.         -0.          0.         -0.         -0.         -0.         -0.\n",
      "  0.          0.         -0.          0.         -0.         -0.          0.\n",
      " -0.         -0.         -0.         -0.          0.         -0.         -0.\n",
      " -0.         -0.         -0.          0.         -0.         -0.         -0.\n",
      " -0.          0.          0.         -0.         -0.          0.         -0.\n",
      " -0.          0.          0.          0.         -0.         -0.         -0.\n",
      " -0.         -0.         -0.          0.         -0.          0.         -0.\n",
      "  0.          0.         -0.         -0.          0.         -0.          0.        ]\n"
     ]
    }
   ],
   "source": [
    "print(lasso.coef_)"
   ]
  },
  {
   "cell_type": "code",
   "execution_count": 204,
   "metadata": {},
   "outputs": [
    {
     "data": {
      "text/plain": [
       "<matplotlib.axes._subplots.AxesSubplot at 0x1b070d2d438>"
      ]
     },
     "execution_count": 204,
     "metadata": {},
     "output_type": "execute_result"
    },
    {
     "data": {
      "image/png": "[encoded data removed]",
      "text/plain": [
       "<matplotlib.figure.Figure at 0x1b070f68f98>"
      ]
     },
     "metadata": {},
     "output_type": "display_data"
    }
   ],
   "source": [
    "feats = {} # a dict to hold feature_name: feature_importance\n",
    "for feature, importance in zip(train_features.columns, lasso.coef_):\n",
    "    feats[feature] = importance #add the name/value pair \n",
    "\n",
    "importances = pd.DataFrame.from_dict(feats, orient='index').rename(columns={0: 'Coef-importance'})\n",
    "importances.sort_values(by='Coef-importance').plot(kind='bar', rot=45)"
   ]
  },
  {
   "cell_type": "code",
   "execution_count": 210,
   "metadata": {},
   "outputs": [
    {
     "data": {
      "text/html": [
       "<div>\n",
       "<style>\n",
       "    .dataframe thead tr:only-child th {\n",
       "        text-align: right;\n",
       "    }\n",
       "\n",
       "    .dataframe thead th {\n",
       "        text-align: left;\n",
       "    }\n",
       "\n",
       "    .dataframe tbody tr th {\n",
       "        vertical-align: top;\n",
       "    }\n",
       "</style>\n",
       "<table border=\"1\" class=\"dataframe\">\n",
       "  <thead>\n",
       "    <tr style=\"text-align: right;\">\n",
       "      <th></th>\n",
       "      <th>Coef-importance</th>\n",
       "    </tr>\n",
       "  </thead>\n",
       "  <tbody>\n",
       "    <tr>\n",
       "      <th>MSZoning_low density</th>\n",
       "      <td>0.000000</td>\n",
       "    </tr>\n",
       "    <tr>\n",
       "      <th>MSZoning_floating</th>\n",
       "      <td>0.000000</td>\n",
       "    </tr>\n",
       "    <tr>\n",
       "      <th>MSZoning_misc</th>\n",
       "      <td>-0.000000</td>\n",
       "    </tr>\n",
       "    <tr>\n",
       "      <th>LotShape_IR1</th>\n",
       "      <td>0.000000</td>\n",
       "    </tr>\n",
       "    <tr>\n",
       "      <th>LotShape_IR2</th>\n",
       "      <td>0.000000</td>\n",
       "    </tr>\n",
       "    <tr>\n",
       "      <th>LotShape_IR3</th>\n",
       "      <td>-0.000000</td>\n",
       "    </tr>\n",
       "    <tr>\n",
       "      <th>LotShape_Reg</th>\n",
       "      <td>-0.000000</td>\n",
       "    </tr>\n",
       "    <tr>\n",
       "      <th>MSZoning_medium-high density</th>\n",
       "      <td>-0.000000</td>\n",
       "    </tr>\n",
       "    <tr>\n",
       "      <th>MSSubClass_1.5 stories</th>\n",
       "      <td>-0.000000</td>\n",
       "    </tr>\n",
       "    <tr>\n",
       "      <th>GarageYrBlt</th>\n",
       "      <td>0.000136</td>\n",
       "    </tr>\n",
       "    <tr>\n",
       "      <th>OpenPorchSF</th>\n",
       "      <td>0.001079</td>\n",
       "    </tr>\n",
       "    <tr>\n",
       "      <th>FireplaceQu</th>\n",
       "      <td>0.001990</td>\n",
       "    </tr>\n",
       "    <tr>\n",
       "      <th>MasVnrArea</th>\n",
       "      <td>0.002506</td>\n",
       "    </tr>\n",
       "    <tr>\n",
       "      <th>LotFrontage</th>\n",
       "      <td>0.002513</td>\n",
       "    </tr>\n",
       "    <tr>\n",
       "      <th>AbvGrndRoomSize</th>\n",
       "      <td>0.002674</td>\n",
       "    </tr>\n",
       "    <tr>\n",
       "      <th>BsmtFinSF1</th>\n",
       "      <td>0.003905</td>\n",
       "    </tr>\n",
       "    <tr>\n",
       "      <th>BsmtFinType1</th>\n",
       "      <td>0.005072</td>\n",
       "    </tr>\n",
       "    <tr>\n",
       "      <th>WoodDeckSF</th>\n",
       "      <td>0.005601</td>\n",
       "    </tr>\n",
       "    <tr>\n",
       "      <th>TotRmsAbvGrd</th>\n",
       "      <td>0.031611</td>\n",
       "    </tr>\n",
       "    <tr>\n",
       "      <th>OverallQual</th>\n",
       "      <td>0.081721</td>\n",
       "    </tr>\n",
       "  </tbody>\n",
       "</table>\n",
       "</div>"
      ],
      "text/plain": [
       "                              Coef-importance\n",
       "MSZoning_low density                 0.000000\n",
       "MSZoning_floating                    0.000000\n",
       "MSZoning_misc                       -0.000000\n",
       "LotShape_IR1                         0.000000\n",
       "LotShape_IR2                         0.000000\n",
       "LotShape_IR3                        -0.000000\n",
       "LotShape_Reg                        -0.000000\n",
       "MSZoning_medium-high density        -0.000000\n",
       "MSSubClass_1.5 stories              -0.000000\n",
       "GarageYrBlt                          0.000136\n",
       "OpenPorchSF                          0.001079\n",
       "FireplaceQu                          0.001990\n",
       "MasVnrArea                           0.002506\n",
       "LotFrontage                          0.002513\n",
       "AbvGrndRoomSize                      0.002674\n",
       "BsmtFinSF1                           0.003905\n",
       "BsmtFinType1                         0.005072\n",
       "WoodDeckSF                           0.005601\n",
       "TotRmsAbvGrd                         0.031611\n",
       "OverallQual                          0.081721"
      ]
     },
     "execution_count": 210,
     "metadata": {},
     "output_type": "execute_result"
    }
   ],
   "source": [
    "importances.sort_values(by='Coef-importance').tail(20)"
   ]
  },
  {
   "cell_type": "code",
   "execution_count": 209,
   "metadata": {},
   "outputs": [
    {
     "data": {
      "text/html": [
       "<div>\n",
       "<style>\n",
       "    .dataframe thead tr:only-child th {\n",
       "        text-align: right;\n",
       "    }\n",
       "\n",
       "    .dataframe thead th {\n",
       "        text-align: left;\n",
       "    }\n",
       "\n",
       "    .dataframe tbody tr th {\n",
       "        vertical-align: top;\n",
       "    }\n",
       "</style>\n",
       "<table border=\"1\" class=\"dataframe\">\n",
       "  <thead>\n",
       "    <tr style=\"text-align: right;\">\n",
       "      <th></th>\n",
       "      <th>Coef-importance</th>\n",
       "    </tr>\n",
       "  </thead>\n",
       "  <tbody>\n",
       "    <tr>\n",
       "      <th>YearBuilt</th>\n",
       "      <td>-0.018338</td>\n",
       "    </tr>\n",
       "    <tr>\n",
       "      <th>Neighborhood_NPkVill</th>\n",
       "      <td>-0.000000</td>\n",
       "    </tr>\n",
       "    <tr>\n",
       "      <th>RoofStyle_Gambrel</th>\n",
       "      <td>-0.000000</td>\n",
       "    </tr>\n",
       "    <tr>\n",
       "      <th>RoofStyle_Hip</th>\n",
       "      <td>0.000000</td>\n",
       "    </tr>\n",
       "    <tr>\n",
       "      <th>RoofStyle_Mansard</th>\n",
       "      <td>-0.000000</td>\n",
       "    </tr>\n",
       "  </tbody>\n",
       "</table>\n",
       "</div>"
      ],
      "text/plain": [
       "                      Coef-importance\n",
       "YearBuilt                   -0.018338\n",
       "Neighborhood_NPkVill        -0.000000\n",
       "RoofStyle_Gambrel           -0.000000\n",
       "RoofStyle_Hip                0.000000\n",
       "RoofStyle_Mansard           -0.000000"
      ]
     },
     "execution_count": 209,
     "metadata": {},
     "output_type": "execute_result"
    }
   ],
   "source": [
    "importances.sort_values(by='Coef-importance').head(5)"
   ]
  },
  {
   "cell_type": "code",
   "execution_count": 206,
   "metadata": {},
   "outputs": [
    {
     "data": {
      "text/plain": [
       "0.039649070318867649"
      ]
     },
     "execution_count": 206,
     "metadata": {},
     "output_type": "execute_result"
    }
   ],
   "source": [
    "from sklearn.metrics import mean_squared_error\n",
    "y_pred = lasso.predict(train_features)\n",
    "mean_squared_error(train_target, y_pred)\n",
    "#y_pred = ridge.predict(train_features)\n",
    "#rss = sum((y_pred-train_target)**2)\n",
    "#ret = [rss]"
   ]
  },
  {
   "cell_type": "code",
   "execution_count": 193,
   "metadata": {},
   "outputs": [
    {
     "data": {
      "text/plain": [
       "0.75134244500412362"
      ]
     },
     "execution_count": 193,
     "metadata": {},
     "output_type": "execute_result"
    }
   ],
   "source": [
    "lasso.score(train_features, train_target)"
   ]
  },
  {
   "cell_type": "code",
   "execution_count": 196,
   "metadata": {
    "collapsed": true
   },
   "outputs": [],
   "source": [
    "from sklearn.ensemble import RandomForestRegressor\n",
    "from sklearn.datasets import make_regression"
   ]
  },
  {
   "cell_type": "code",
   "execution_count": 197,
   "metadata": {},
   "outputs": [
    {
     "data": {
      "text/plain": [
       "RandomForestRegressor(bootstrap=True, criterion='mse', max_depth=2,\n",
       "           max_features='auto', max_leaf_nodes=None,\n",
       "           min_impurity_decrease=0.0, min_impurity_split=None,\n",
       "           min_samples_leaf=1, min_samples_split=2,\n",
       "           min_weight_fraction_leaf=0.0, n_estimators=10, n_jobs=1,\n",
       "           oob_score=False, random_state=0, verbose=0, warm_start=False)"
      ]
     },
     "execution_count": 197,
     "metadata": {},
     "output_type": "execute_result"
    }
   ],
   "source": [
    "regr = RandomForestRegressor(max_depth=2, random_state=0)\n",
    "regr.fit(train_features, train_target)"
   ]
  },
  {
   "cell_type": "code",
   "execution_count": 198,
   "metadata": {},
   "outputs": [
    {
     "name": "stdout",
     "output_type": "stream",
     "text": [
      "[ 0.          0.          0.69866027  0.          0.          0.          0.\n",
      "  0.          0.          0.          0.          0.          0.          0.\n",
      "  0.          0.          0.          0.          0.          0.          0.\n",
      "  0.          0.          0.          0.          0.          0.          0.\n",
      "  0.          0.          0.          0.          0.          0.          0.\n",
      "  0.          0.          0.01298278  0.          0.          0.          0.\n",
      "  0.          0.          0.          0.          0.          0.          0.\n",
      "  0.          0.28835695  0.          0.          0.          0.          0.\n",
      "  0.          0.          0.          0.          0.          0.          0.\n",
      "  0.          0.          0.          0.          0.          0.          0.\n",
      "  0.          0.          0.          0.          0.          0.          0.\n",
      "  0.          0.          0.          0.          0.          0.          0.\n",
      "  0.          0.          0.          0.          0.          0.          0.\n",
      "  0.          0.          0.          0.          0.          0.          0.\n",
      "  0.          0.          0.          0.          0.          0.          0.\n",
      "  0.          0.          0.          0.          0.          0.          0.\n",
      "  0.          0.          0.          0.          0.          0.          0.\n",
      "  0.          0.          0.          0.          0.          0.          0.\n",
      "  0.          0.          0.          0.          0.          0.          0.\n",
      "  0.          0.          0.          0.          0.          0.          0.\n",
      "  0.          0.          0.          0.          0.          0.          0.\n",
      "  0.          0.          0.          0.          0.          0.          0.\n",
      "  0.          0.          0.          0.          0.          0.          0.\n",
      "  0.          0.          0.          0.          0.          0.          0.\n",
      "  0.          0.          0.          0.          0.          0.          0.\n",
      "  0.          0.          0.          0.          0.          0.          0.\n",
      "  0.          0.          0.          0.          0.          0.          0.\n",
      "  0.          0.          0.          0.          0.        ]\n"
     ]
    }
   ],
   "source": [
    "print(regr.feature_importances_)"
   ]
  },
  {
   "cell_type": "code",
   "execution_count": 202,
   "metadata": {},
   "outputs": [
    {
     "data": {
      "text/html": [
       "<div>\n",
       "<style>\n",
       "    .dataframe thead tr:only-child th {\n",
       "        text-align: right;\n",
       "    }\n",
       "\n",
       "    .dataframe thead th {\n",
       "        text-align: left;\n",
       "    }\n",
       "\n",
       "    .dataframe tbody tr th {\n",
       "        vertical-align: top;\n",
       "    }\n",
       "</style>\n",
       "<table border=\"1\" class=\"dataframe\">\n",
       "  <thead>\n",
       "    <tr style=\"text-align: right;\">\n",
       "      <th></th>\n",
       "      <th>Coef-importance</th>\n",
       "    </tr>\n",
       "  </thead>\n",
       "  <tbody>\n",
       "    <tr>\n",
       "      <th>YrSold_Garage_Difference</th>\n",
       "      <td>0.000000</td>\n",
       "    </tr>\n",
       "    <tr>\n",
       "      <th>AbvGrndRoomSize</th>\n",
       "      <td>0.000000</td>\n",
       "    </tr>\n",
       "    <tr>\n",
       "      <th>GarageCars</th>\n",
       "      <td>0.012983</td>\n",
       "    </tr>\n",
       "    <tr>\n",
       "      <th>TotalFinSF</th>\n",
       "      <td>0.288357</td>\n",
       "    </tr>\n",
       "    <tr>\n",
       "      <th>OverallQual</th>\n",
       "      <td>0.698660</td>\n",
       "    </tr>\n",
       "  </tbody>\n",
       "</table>\n",
       "</div>"
      ],
      "text/plain": [
       "                          Coef-importance\n",
       "YrSold_Garage_Difference         0.000000\n",
       "AbvGrndRoomSize                  0.000000\n",
       "GarageCars                       0.012983\n",
       "TotalFinSF                       0.288357\n",
       "OverallQual                      0.698660"
      ]
     },
     "execution_count": 202,
     "metadata": {},
     "output_type": "execute_result"
    }
   ],
   "source": [
    "feats = {} # a dict to hold feature_name: feature_importance\n",
    "for feature, importance in zip(train_features.columns, regr.feature_importances_):\n",
    "    feats[feature] = importance #add the name/value pair \n",
    "\n",
    "importances = pd.DataFrame.from_dict(feats, orient='index').rename(columns={0: 'Coef-importance'})\n",
    "importances.sort_values(by='Coef-importance').tail()"
   ]
  },
  {
   "cell_type": "code",
   "execution_count": null,
   "metadata": {
    "collapsed": true
   },
   "outputs": [],
   "source": []
  }
 ],
 "metadata": {
  "kernelspec": {
   "display_name": "Python 3",
   "language": "python",
   "name": "python3"
  },
  "language_info": {
   "codemirror_mode": {
    "name": "ipython",
    "version": 3
   },
   "file_extension": ".py",
   "mimetype": "text/x-python",
   "name": "python",
   "nbconvert_exporter": "python",
   "pygments_lexer": "ipython3",
   "version": "3.6.4"
  }
 },
 "nbformat": 4,
 "nbformat_minor": 2
}
